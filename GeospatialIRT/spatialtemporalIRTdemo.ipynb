{
 "cells": [
  {
   "attachments": {},
   "cell_type": "markdown",
   "metadata": {},
   "source": [
    "Demonstration of dynamic Gaussian Process Item Response Theory\n",
    "with spactial-temporal relation."
   ]
  },
  {
   "cell_type": "code",
   "execution_count": 1,
   "metadata": {},
   "outputs": [],
   "source": [
    "# LOAD PACKAGES\n",
    "import numpy as np\n",
    "from sklearn.gaussian_process.kernels import RBF\n",
    "import matplotlib.pyplot as plt\n",
    "from binomial_likelihood import BinomialLikelihood\n",
    "from gpytorch.variational import CholeskyVariationalDistribution\n",
    "from gpytorch.variational import VariationalStrategy\n",
    "import torch\n",
    "import gpytorch"
   ]
  },
  {
   "attachments": {},
   "cell_type": "markdown",
   "metadata": {},
   "source": [
    "background characteristics: x_i ~ N(0,1), i=1,2,3,4\n",
    "\n",
    "normalized geospatial locations: g_1 ~ Unif(0,1), g_2 ~ Unif(0,1)\n",
    "\n",
    "geospatial correlated noise: g_effect ~ N(0, K), K_{ij} = exp(-(g_i-g_j)^2/2)\n",
    "\n",
    "temporal correlated noise: t_effect ~ N(0,K), K_t = exp(-(t-t')^2/2) \n",
    "\n",
    "temporal normalized latent policy positions: sigma_i = x_1^2 + x_2 + x_1*x_2 + cos(x3) - x_4^3 + t_effect * g_effect(i)\n",
    "\n",
    "response model: y ~ binom(sigma_i,m), y=1,...,m"
   ]
  },
  {
   "cell_type": "code",
   "execution_count": 8,
   "metadata": {},
   "outputs": [],
   "source": [
    "n = 100; # num of respondents\n",
    "T = 10; # num of time periods\n",
    "m = 10; # num of items in the battery\n",
    "np.random.seed(12345)\n",
    "x = np.zeros((n*T,4+2+1))\n",
    "y = np.zeros((n*T,))\n",
    "\n",
    "# background characteristics: x_i \n",
    "for i in range(4):\n",
    "    x[:,i] = np.repeat(np.random.normal(loc=0.0, scale=1.0, size=(n,)),T)\n",
    "\n",
    "# normalized geospatial locations: g_1 ~ Unif(0,1), g_2 ~ Unif(0,1)\n",
    "g = np.random.uniform(low=0.0, high=1.0, size=(n,2))\n",
    "x[:,4] = np.repeat(g[:,0],T)\n",
    "x[:,5] = np.repeat(g[:,1],T)\n",
    "\n",
    "# geospatial correlated noise: sigma(t) ~ N(0, K), K_{ij} = exp(-(g_i-g_j)^2/2), K_t = exp(-(t-t')^2/2) \n",
    "kernel = RBF(length_scale = 1.0)\n",
    "# K = np.kron(kernel(g*2),kernel(np.arange(T).reshape(-1,1)/T*3))\n",
    "K = kernel(g*2)\n",
    "x[:,6] = np.tile(np.arange(T),n)\n",
    "g_effects = np.random.multivariate_normal(np.zeros((n,)), K)\n",
    "\n",
    "K = kernel(np.arange(T).reshape(-1,1)/T*3)\n",
    "t_effects = np.random.multivariate_normal(np.zeros((T,)), K)\n",
    "\n",
    "# normalized latent policy positions: \n",
    "f = x[:,0]**2 + x[:,1] + x[:,0]*x[:,1] + np.cos(x[:,2]) - x[:,3]**3\n",
    "for t in range(T):\n",
    "    f[x[:,6]==t] = t_effects[t]*g_effects\n",
    "f_min = np.min(f)\n",
    "f_max = np.max(f)\n",
    "f = (f-f_min) / (f_max - f_min)\n",
    "\n",
    "# response model: y ~ binom(sigma_i,m), y=1,...,m\n",
    "for i in range(n*T):\n",
    "    y[i] = np.random.binomial(m,f[i])\n",
    "\n",
    "train_x = torch.from_numpy(x).double()\n",
    "train_y = torch.from_numpy(y).double()"
   ]
  },
  {
   "attachments": {},
   "cell_type": "markdown",
   "metadata": {},
   "source": [
    "customize binomial likelihood model"
   ]
  },
  {
   "cell_type": "code",
   "execution_count": 9,
   "metadata": {},
   "outputs": [],
   "source": [
    "from gpytorch.distributions import base_distributions\n",
    "from gpytorch.functions import log_normal_cdf\n",
    "from gpytorch.likelihoods.likelihood import _OneDimensionalLikelihood\n",
    "\n",
    "class BinomialLikelihood(_OneDimensionalLikelihood):\n",
    "    r\"\"\"\n",
    "    Implements the Binomial likelihood for count data y between 1 and m. \n",
    "    The Binomial distribution is parameterized by :math:`m > 0`. \n",
    "    We can write the likelihood as:\n",
    "\n",
    "    .. math::\n",
    "        \\begin{equation*}\n",
    "            p(Y=y|f,m)=\\phi(f)^y(1-\\phi(f))^{(m-y)}\n",
    "        \\end{equation*}\n",
    "    \"\"\"\n",
    "\n",
    "    def __init__(self,m):\n",
    "        super().__init__()\n",
    "        if m<0 or int(m)!=m:\n",
    "            self.m = 10\n",
    "            print(\"m must be a positive integer!\")\n",
    "        else:\n",
    "            self.m = m\n",
    "\n",
    "    def forward(self, function_samples, **kwargs):\n",
    "        output_probs = base_distributions.Normal(0, 1).cdf(function_samples)\n",
    "        return base_distributions.Binomial(total_count=self.m, probs=output_probs)\n",
    "\n",
    "    def log_marginal(self, observations, function_dist, *args, **kwargs):\n",
    "        marginal = self.marginal(function_dist, *args, **kwargs)\n",
    "        return marginal.log_prob(observations)\n",
    "\n",
    "    def marginal(self, function_dist, **kwargs):\n",
    "        mean = function_dist.mean\n",
    "        var = function_dist.variance\n",
    "        link = mean.div(torch.sqrt(1 + var))\n",
    "        output_probs = base_distributions.Normal(0, 1).cdf(link)\n",
    "        return base_distributions.Binomial(total_count=self.m, probs=output_probs)\n",
    "\n",
    "    def expected_log_prob(self, observations, function_dist, *params, **kwargs):\n",
    "        if torch.any(torch.logical_or(observations.le(-1), observations.ge(self.m+1))):\n",
    "            # Remove after 1.0\n",
    "            warnings.warn(\n",
    "                \"BinomialLikelihood.expected_log_prob expects observations with labels in [0, m]. \"\n",
    "                \"Observations <0 or >m are not allowed.\",\n",
    "                DeprecationWarning,\n",
    "            )\n",
    "        else:\n",
    "            observations = torch.clamp(observations,0,self.m)\n",
    "        # Custom function here so we can use log_normal_cdf rather than Normal.cdf\n",
    "        # This is going to be less prone to overflow errors\n",
    "        log_prob_lambda = lambda function_samples: self.m*log_normal_cdf(-function_samples) + \\\n",
    "                observations.mul(log_normal_cdf(function_samples)-log_normal_cdf(-function_samples))\n",
    "        log_prob = self.quadrature(log_prob_lambda, function_dist)\n",
    "        return log_prob"
   ]
  },
  {
   "attachments": {},
   "cell_type": "markdown",
   "metadata": {},
   "source": [
    "customize gp model"
   ]
  },
  {
   "cell_type": "code",
   "execution_count": 10,
   "metadata": {},
   "outputs": [],
   "source": [
    "class BinomialGPModel(gpytorch.models.ApproximateGP):\n",
    "    def __init__(self, train_x):\n",
    "        variational_distribution = CholeskyVariationalDistribution(train_x.size(0))\n",
    "        variational_strategy = VariationalStrategy(\n",
    "            self, train_x, variational_distribution, learn_inducing_locations=False\n",
    "        )\n",
    "        super(BinomialGPModel, self).__init__(variational_strategy)\n",
    "        self.mean_module = gpytorch.means.LinearMean(input_size=train_x.size(1))\n",
    "        # separate kernels for covariate, geospatial and time confounding\n",
    "        self.x_covar_module = gpytorch.kernels.ScaleKernel(\n",
    "            gpytorch.kernels.RBFKernel(active_dims=[0,1,2,3], ard_num_dims=4))\n",
    "        # use a product kernel for geospatial and time confounding\n",
    "        # but in general can be replaced by a joint g and t kernel\n",
    "        self.gt_covar_module = gpytorch.kernels.ScaleKernel(\n",
    "            gpytorch.kernels.RBFKernel(active_dims=[4,5], ard_num_dims=2)*\\\n",
    "                gpytorch.kernels.RBFKernel(active_dims=[6]))\n",
    "\n",
    "    def forward(self, x):\n",
    "        mean_x = self.mean_module(x)\n",
    "        # sum over all covariances\n",
    "        covar_x = self.x_covar_module(x)\n",
    "        covar_gt = self.gt_covar_module(x)\n",
    "        covar = covar_x + covar_gt\n",
    "        return gpytorch.distributions.MultivariateNormal(mean_x, covar)\n"
   ]
  },
  {
   "attachments": {},
   "cell_type": "markdown",
   "metadata": {},
   "source": [
    "optimize model parameters (variational locations and hyperparameters)"
   ]
  },
  {
   "cell_type": "code",
   "execution_count": 11,
   "metadata": {},
   "outputs": [
    {
     "name": "stderr",
     "output_type": "stream",
     "text": [
      "/Users/yahoo/anaconda3/lib/python3.7/site-packages/gpytorch/lazy/triangular_lazy_tensor.py:136: UserWarning: torch.triangular_solve is deprecated in favor of torch.linalg.solve_triangularand will be removed in a future PyTorch release.\n",
      "torch.linalg.solve_triangular has its arguments reversed and does not return a copy of one of the inputs.\n",
      "X = torch.triangular_solve(B, A).solution\n",
      "should be replaced with\n",
      "X = torch.linalg.solve_triangular(A, B). (Triggered internally at  /Users/runner/work/pytorch/pytorch/pytorch/aten/src/ATen/native/BatchLinearAlgebra.cpp:2189.)\n",
      "  res = torch.triangular_solve(right_tensor, self.evaluate(), upper=self.upper).solution\n"
     ]
    },
    {
     "name": "stdout",
     "output_type": "stream",
     "text": [
      "Iter 1/100 - Loss: 38.115\n",
      "Iter 2/100 - Loss: 44.301\n",
      "Iter 3/100 - Loss: 21.162\n",
      "Iter 4/100 - Loss: 21.230\n",
      "Iter 5/100 - Loss: 24.385\n",
      "Iter 6/100 - Loss: 21.322\n",
      "Iter 7/100 - Loss: 16.290\n",
      "Iter 8/100 - Loss: 12.843\n",
      "Iter 9/100 - Loss: 11.410\n",
      "Iter 10/100 - Loss: 10.916\n",
      "Iter 11/100 - Loss: 10.517\n",
      "Iter 12/100 - Loss: 10.034\n",
      "Iter 13/100 - Loss: 9.587\n",
      "Iter 14/100 - Loss: 9.255\n",
      "Iter 15/100 - Loss: 9.001\n",
      "Iter 16/100 - Loss: 8.731\n",
      "Iter 17/100 - Loss: 8.401\n",
      "Iter 18/100 - Loss: 8.067\n",
      "Iter 19/100 - Loss: 7.838\n",
      "Iter 20/100 - Loss: 7.778\n",
      "Iter 21/100 - Loss: 7.840\n",
      "Iter 22/100 - Loss: 7.902\n",
      "Iter 23/100 - Loss: 7.858\n",
      "Iter 24/100 - Loss: 7.687\n",
      "Iter 25/100 - Loss: 7.446\n",
      "Iter 26/100 - Loss: 7.224\n",
      "Iter 27/100 - Loss: 7.078\n",
      "Iter 28/100 - Loss: 7.010\n",
      "Iter 29/100 - Loss: 6.979\n",
      "Iter 30/100 - Loss: 6.934\n",
      "Iter 31/100 - Loss: 6.847\n",
      "Iter 32/100 - Loss: 6.729\n",
      "Iter 33/100 - Loss: 6.613\n",
      "Iter 34/100 - Loss: 6.533\n",
      "Iter 35/100 - Loss: 6.501\n",
      "Iter 36/100 - Loss: 6.504\n",
      "Iter 37/100 - Loss: 6.513\n",
      "Iter 38/100 - Loss: 6.504\n",
      "Iter 39/100 - Loss: 6.468\n",
      "Iter 40/100 - Loss: 6.419\n",
      "Iter 41/100 - Loss: 6.377\n",
      "Iter 42/100 - Loss: 6.354\n",
      "Iter 43/100 - Loss: 6.350\n",
      "Iter 44/100 - Loss: 6.353\n",
      "Iter 45/100 - Loss: 6.348\n",
      "Iter 46/100 - Loss: 6.328\n",
      "Iter 47/100 - Loss: 6.297\n",
      "Iter 48/100 - Loss: 6.267\n",
      "Iter 49/100 - Loss: 6.247\n",
      "Iter 50/100 - Loss: 6.240\n",
      "Iter 51/100 - Loss: 6.239\n",
      "Iter 52/100 - Loss: 6.234\n",
      "Iter 53/100 - Loss: 6.221\n",
      "Iter 54/100 - Loss: 6.202\n",
      "Iter 55/100 - Loss: 6.185\n",
      "Iter 56/100 - Loss: 6.175\n",
      "Iter 57/100 - Loss: 6.173\n",
      "Iter 58/100 - Loss: 6.174\n",
      "Iter 59/100 - Loss: 6.174\n",
      "Iter 60/100 - Loss: 6.170\n",
      "Iter 61/100 - Loss: 6.162\n",
      "Iter 62/100 - Loss: 6.155\n",
      "Iter 63/100 - Loss: 6.151\n",
      "Iter 64/100 - Loss: 6.149\n",
      "Iter 65/100 - Loss: 6.148\n",
      "Iter 66/100 - Loss: 6.145\n",
      "Iter 67/100 - Loss: 6.140\n",
      "Iter 68/100 - Loss: 6.134\n",
      "Iter 69/100 - Loss: 6.129\n",
      "Iter 70/100 - Loss: 6.127\n",
      "Iter 71/100 - Loss: 6.125\n",
      "Iter 72/100 - Loss: 6.123\n",
      "Iter 73/100 - Loss: 6.120\n",
      "Iter 74/100 - Loss: 6.117\n",
      "Iter 75/100 - Loss: 6.115\n",
      "Iter 76/100 - Loss: 6.113\n",
      "Iter 77/100 - Loss: 6.112\n",
      "Iter 78/100 - Loss: 6.111\n",
      "Iter 79/100 - Loss: 6.109\n",
      "Iter 80/100 - Loss: 6.107\n",
      "Iter 81/100 - Loss: 6.104\n",
      "Iter 82/100 - Loss: 6.103\n",
      "Iter 83/100 - Loss: 6.101\n",
      "Iter 84/100 - Loss: 6.100\n",
      "Iter 85/100 - Loss: 6.098\n",
      "Iter 86/100 - Loss: 6.096\n",
      "Iter 87/100 - Loss: 6.095\n",
      "Iter 88/100 - Loss: 6.093\n",
      "Iter 89/100 - Loss: 6.092\n",
      "Iter 90/100 - Loss: 6.091\n",
      "Iter 91/100 - Loss: 6.090\n",
      "Iter 92/100 - Loss: 6.088\n",
      "Iter 93/100 - Loss: 6.087\n",
      "Iter 94/100 - Loss: 6.086\n",
      "Iter 95/100 - Loss: 6.085\n",
      "Iter 96/100 - Loss: 6.084\n",
      "Iter 97/100 - Loss: 6.083\n",
      "Iter 98/100 - Loss: 6.081\n",
      "Iter 99/100 - Loss: 6.080\n",
      "Iter 100/100 - Loss: 6.079\n"
     ]
    }
   ],
   "source": [
    "# initialize likelihood and model\n",
    "likelihood = BinomialLikelihood(m=m)\n",
    "model = BinomialGPModel(train_x=train_x).double()\n",
    "\n",
    "training_iterations = 100\n",
    "\n",
    "# Find optimal model hyperparameters\n",
    "model.train()\n",
    "likelihood.train()\n",
    "\n",
    "# Use the adam optimizer\n",
    "optimizer = torch.optim.Adam(model.parameters(), lr=0.1)  # Includes GaussianLikelihood parameters\n",
    "\n",
    "# \"Loss\" for GPs - the marginal log likelihood\n",
    "mll = gpytorch.mlls.VariationalELBO(likelihood, model, train_y.numel())\n",
    "\n",
    "for i in range(training_iterations):\n",
    "    # Zero backpropped gradients from previous iteration\n",
    "    optimizer.zero_grad()\n",
    "    # Get predictive output\n",
    "    output = model(train_x)\n",
    "    # Calc loss and backprop gradients\n",
    "    loss = -mll(output, train_y)\n",
    "    loss.backward()\n",
    "    print('Iter %d/%d - Loss: %.3f' % (i + 1, training_iterations, loss.item()))\n",
    "    optimizer.step()"
   ]
  },
  {
   "attachments": {},
   "cell_type": "markdown",
   "metadata": {},
   "source": [
    "visualize estimated expected response for the first respondent"
   ]
  },
  {
   "cell_type": "code",
   "execution_count": 12,
   "metadata": {},
   "outputs": [
    {
     "data": {
      "image/png": "[encoded data removed]",
      "text/plain": [
       "<Figure size 288x216 with 1 Axes>"
      ]
     },
     "metadata": {
      "needs_background": "light"
     },
     "output_type": "display_data"
    }
   ],
   "source": [
    "model.eval()\n",
    "likelihood.eval()\n",
    "\n",
    "with torch.no_grad():\n",
    "    # plot the estimated latent f for first respondent\n",
    "    test_x = train_x[0:T,:]\n",
    "    # Get classification predictions\n",
    "    observed_pred = likelihood(model(test_x))\n",
    "\n",
    "    # Initialize fig and axes for plot\n",
    "    f, ax = plt.subplots(1, 1, figsize=(4, 3))\n",
    "    ax.plot(test_x[:,6].numpy(), train_y[0:T].numpy(), 'k*')\n",
    "    # Get the predicted labels\n",
    "    pred_labels = observed_pred.mean.float()\n",
    "    ax.plot(test_x[0:T,6].numpy(), pred_labels.numpy(), 'b')\n",
    "    ax.legend(['Observed Data', 'Expected Responses'])"
   ]
  },
  {
   "attachments": {},
   "cell_type": "markdown",
   "metadata": {},
   "source": [
    "visualize estimated expected response for a virtual respondent with x_1=x_2=x_3=x_4=0 with the same geo locations as the first respondent"
   ]
  },
  {
   "cell_type": "code",
   "execution_count": 14,
   "metadata": {},
   "outputs": [
    {
     "data": {
      "image/png": "[encoded data removed]",
      "text/plain": [
       "<Figure size 288x216 with 1 Axes>"
      ]
     },
     "metadata": {
      "needs_background": "light"
     },
     "output_type": "display_data"
    }
   ],
   "source": [
    "with torch.no_grad():\n",
    "    # plot the estimated latent f for first respondent\n",
    "    test_x = train_x[0:T,:]\n",
    "    test_x[:,0:4] = 0\n",
    "    # Get classification predictions\n",
    "    observed_pred = likelihood(model(test_x))\n",
    "\n",
    "    # Initialize fig and axes for plot\n",
    "    f, ax = plt.subplots(1, 1, figsize=(4, 3))\n",
    "    true_f = 1 + t_effects * g_effects[0]\n",
    "    true_f = (true_f - f_min) / (f_max - f_min)\n",
    "    true_f = torch.clamp(torch.tensor(true_f), 0, 1)\n",
    "    ax.plot(test_x[:,6].numpy(), true_f.numpy()*m, 'k*')\n",
    "    # Get the predicted labels\n",
    "    pred_labels = observed_pred.mean.float()\n",
    "    ax.plot(test_x[0:T,6].numpy(), pred_labels.numpy(), 'b')\n",
    "    ax.legend(['True Expected Responses', 'Estimated Expected Responses'])"
   ]
  },
  {
   "cell_type": "code",
   "execution_count": null,
   "metadata": {},
   "outputs": [],
   "source": []
  }
 ],
 "metadata": {
  "kernelspec": {
   "display_name": "base",
   "language": "python",
   "name": "python3"
  },
  "language_info": {
   "codemirror_mode": {
    "name": "ipython",
    "version": 3
   },
   "file_extension": ".py",
   "mimetype": "text/x-python",
   "name": "python",
   "nbconvert_exporter": "python",
   "pygments_lexer": "ipython3",
   "version": "3.7.3"
  },
  "orig_nbformat": 4
 },
 "nbformat": 4,
 "nbformat_minor": 2
}
