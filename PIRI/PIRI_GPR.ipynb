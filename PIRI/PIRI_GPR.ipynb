{
 "cells": [
  {
   "attachments": {},
   "cell_type": "markdown",
   "metadata": {},
   "source": [
    "Demonstration of GPR for PIRI data with unit trends"
   ]
  },
  {
   "cell_type": "code",
   "execution_count": 1,
   "metadata": {},
   "outputs": [],
   "source": [
    "# load packages\n",
    "import torch\n",
    "import numpy as np\n",
    "import pandas as pd\n",
    "import gpytorch\n",
    "from scipy.stats import norm\n",
    "from typing import Optional, Tuple\n",
    "from matplotlib import pyplot as plt\n",
    "from gpytorch.means import LinearMean\n",
    "from gpytorch.likelihoods import GaussianLikelihood\n",
    "from gpytorch.kernels import ScaleKernel, RBFKernel\n",
    "from statsmodels.stats.stattools import durbin_watson"
   ]
  },
  {
   "attachments": {},
   "cell_type": "markdown",
   "metadata": {},
   "source": [
    "Implement constant mean module and mask mean module"
   ]
  },
  {
   "cell_type": "code",
   "execution_count": 2,
   "metadata": {},
   "outputs": [],
   "source": [
    "class ConstantVectorMean(gpytorch.means.mean.Mean):\n",
    "    def __init__(self, d=1, prior=None, batch_shape=torch.Size(), **kwargs):\n",
    "        super().__init__()\n",
    "        self.batch_shape = batch_shape\n",
    "        self.register_parameter(name=\"constantvector\",\\\n",
    "                 parameter=torch.nn.Parameter(torch.zeros(*batch_shape, d)))\n",
    "        if prior is not None:\n",
    "            self.register_prior(\"mean_prior\", prior, \"constantvector\")\n",
    "\n",
    "    def forward(self, input):\n",
    "        return self.constantvector[input.int().reshape((-1,)).tolist()]\n",
    "    \n",
    "class MaskMean(gpytorch.means.mean.Mean):\n",
    "    def __init__(\n",
    "        self,\n",
    "        base_mean: gpytorch.means.mean.Mean,\n",
    "        active_dims: Optional[Tuple[int, ...]] = None,\n",
    "        **kwargs,\n",
    "    ):\n",
    "        super().__init__()\n",
    "        if active_dims is not None and not torch.is_tensor(active_dims):\n",
    "            active_dims = torch.tensor(active_dims, dtype=torch.long)\n",
    "        self.active_dims = active_dims\n",
    "        self.base_mean = base_mean\n",
    "    \n",
    "    def forward(self, x, **params):\n",
    "        return self.base_mean.forward(x.index_select(-1, self.active_dims), **params)"
   ]
  },
  {
   "attachments": {},
   "cell_type": "markdown",
   "metadata": {},
   "source": [
    "load data"
   ]
  },
  {
   "cell_type": "code",
   "execution_count": 3,
   "metadata": {},
   "outputs": [],
   "source": [
    "def load_PIRI_data():\n",
    "    # read data\n",
    "    data = pd.read_csv(\"hb_data_complete.csv\", index_col=[0])\n",
    "\n",
    "    # all zero PIRI for new zealand and netherland\n",
    "    data = data.loc[~data['country'].isin(['N-ZEAL','NETHERL'])]\n",
    "\n",
    "    countries = sorted(data.country.unique())\n",
    "    years = data.year.unique()\n",
    "    n = len(countries)\n",
    "    m = len(years)\n",
    "\n",
    "    # build data\n",
    "    country_dict = dict(zip(countries, range(n)))\n",
    "    year_dict = dict(zip(years, range(m)))\n",
    "\n",
    "    # x is:\n",
    "    # 1: year number\n",
    "    # 2: country id\n",
    "    # 3: AIShame (treatment indicator)\n",
    "    # 4: cat_rat\n",
    "    # 5: ccpr_rat\n",
    "    # 6: democratic\n",
    "    # 7: log(gdppc)\n",
    "    # 8: log(pop)\n",
    "    # 9: Civilwar2\n",
    "    # 10: War\n",
    "    x = torch.zeros(data.shape[0], 10)\n",
    "    x[:,0] = torch.as_tensor(list(map(year_dict.get, data.year)))\n",
    "    x[:,1] = torch.as_tensor(list(map(country_dict.get, data.country)))\n",
    "    x[:,2] = torch.as_tensor(data.AIShame.to_numpy())\n",
    "    x[:,3] = torch.as_tensor(data.cat_rat.to_numpy())\n",
    "    x[:,4] = torch.as_tensor(data.ccpr_rat.to_numpy())\n",
    "    x[:,5] = torch.as_tensor(data.democratic.to_numpy())\n",
    "    x[:,6] = torch.as_tensor(data.log_gdppc.to_numpy())\n",
    "    x[:,7] = torch.as_tensor(data.log_pop.to_numpy())\n",
    "    x[:,8] = torch.as_tensor(data.Civilwar2.to_numpy())\n",
    "    x[:,9] = torch.as_tensor(data.War.to_numpy())\n",
    "    # x[:,10] = torch.as_tensor(data.PIRI.to_numpy())\n",
    "    y = torch.as_tensor(data.PIRILead1.to_numpy()).double()\n",
    "\n",
    "    unit_means = torch.zeros(n,)\n",
    "    for i in range(n):\n",
    "        unit_means[i] = y[x[:,1]==i].mean()\n",
    "\n",
    "    return x.double(), y.double(), unit_means.double(), data, countries, years\n",
    "\n",
    "train_x, train_y, unit_means, data, countries, years = load_PIRI_data()"
   ]
  },
  {
   "attachments": {},
   "cell_type": "markdown",
   "metadata": {},
   "source": [
    "Build GPR model with unit trends"
   ]
  },
  {
   "cell_type": "code",
   "execution_count": 4,
   "metadata": {},
   "outputs": [],
   "source": [
    "# model specification: PIRI gp model with unit trends\n",
    "# PIRI ~ AIShame + u_i(t) + cat_rat + ccpr_rat \n",
    "#            + democratic + log(gdppc) + log(pop) \n",
    "#            + Civilwar2 + War\n",
    "# u_i(t) ~ GP(b_i, K_t)\n",
    "\n",
    "class GPModel(gpytorch.models.ExactGP):\n",
    "    def __init__(self, train_x, train_y, likelihood):\n",
    "        super().__init__(train_x, train_y, likelihood)\n",
    "        self.mean_module = MaskMean(active_dims=1, \\\n",
    "               base_mean=ConstantVectorMean(d=train_x[:,1].unique().size()[0]))\n",
    "        # linear mean for continuous covariates\n",
    "        self.x_mean_module = MaskMean(active_dims=[2,3,4,5,6,7,8,9], base_mean=LinearMean(input_size=8, bias=False))\n",
    "        # year kernel * country kernel\n",
    "        self.unit_covar_module = ScaleKernel(RBFKernel(active_dims=0)*RBFKernel(active_dims=1))\n",
    "        self.x_covar_module = torch.nn.ModuleList([ScaleKernel(RBFKernel(\\\n",
    "            active_dims=(i))) for i in [6,7]])\n",
    "        self.binary_covar_module = torch.nn.ModuleList([ScaleKernel(RBFKernel(\\\n",
    "            active_dims=(i))) for i in [3,4,5,8,9]])\n",
    "        # dummy mean for categorical covariates\n",
    "        self.effect_covar_module = ScaleKernel(RBFKernel(active_dims=2))\n",
    "\n",
    "    def forward(self, x):\n",
    "        mean_x = self.mean_module(x) + self.x_mean_module(x)\n",
    "        unit_covar_x = self.unit_covar_module(x)\n",
    "        effect_covar_x = self.effect_covar_module(x)\n",
    "        covar_x = unit_covar_x + effect_covar_x\n",
    "        for i, _ in enumerate(self.x_covar_module):\n",
    "            covar_x += self.x_covar_module[i](x)\n",
    "        for i, _ in enumerate(self.binary_covar_module):\n",
    "            covar_x += self.binary_covar_module[i](x)\n",
    "        \n",
    "        return gpytorch.distributions.MultivariateNormal(mean_x, covar_x)"
   ]
  },
  {
   "cell_type": "code",
   "execution_count": 5,
   "metadata": {},
   "outputs": [],
   "source": [
    "import statsmodels.formula.api as sm\n",
    "\n",
    "lm = sm.ols('PIRILead1 ~ AIShame  + cat_rat + ccpr_rat \\\n",
    "            + democratic + log_gdppc + log_pop \\\n",
    "            + Civilwar2 + War + C(year) + C(country) + PIRI', data).fit()\n",
    "\n",
    "coefs = lm.params.to_dict()\n",
    "covariate_names = [\"AIShame\" ,\"cat_rat\" , \"ccpr_rat\",\n",
    "           \"democratic\",  \"log_gdppc\", \"log_pop\",\n",
    "            \"Civilwar2\", \"War\"]\n",
    "x_weights = list(map(coefs.get, covariate_names))\n"
   ]
  },
  {
   "attachments": {},
   "cell_type": "markdown",
   "metadata": {},
   "source": [
    "initialize model"
   ]
  },
  {
   "cell_type": "code",
   "execution_count": 8,
   "metadata": {},
   "outputs": [
    {
     "data": {
      "text/plain": [
       "GPModel(\n",
       "  (likelihood): GaussianLikelihood(\n",
       "    (noise_covar): HomoskedasticNoise(\n",
       "      (raw_noise_constraint): GreaterThan(1.000E-04)\n",
       "    )\n",
       "  )\n",
       "  (mean_module): MaskMean(\n",
       "    (base_mean): ConstantVectorMean()\n",
       "  )\n",
       "  (x_mean_module): MaskMean(\n",
       "    (base_mean): LinearMean()\n",
       "  )\n",
       "  (unit_covar_module): ScaleKernel(\n",
       "    (base_kernel): ProductKernel(\n",
       "      (kernels): ModuleList(\n",
       "        (0): RBFKernel(\n",
       "          (raw_lengthscale_constraint): Positive()\n",
       "        )\n",
       "        (1): RBFKernel(\n",
       "          (raw_lengthscale_constraint): Positive()\n",
       "        )\n",
       "      )\n",
       "    )\n",
       "    (raw_outputscale_constraint): Positive()\n",
       "  )\n",
       "  (x_covar_module): ModuleList(\n",
       "    (0): ScaleKernel(\n",
       "      (base_kernel): RBFKernel(\n",
       "        (raw_lengthscale_constraint): Positive()\n",
       "      )\n",
       "      (raw_outputscale_constraint): Positive()\n",
       "    )\n",
       "    (1): ScaleKernel(\n",
       "      (base_kernel): RBFKernel(\n",
       "        (raw_lengthscale_constraint): Positive()\n",
       "      )\n",
       "      (raw_outputscale_constraint): Positive()\n",
       "    )\n",
       "  )\n",
       "  (binary_covar_module): ModuleList(\n",
       "    (0): ScaleKernel(\n",
       "      (base_kernel): RBFKernel(\n",
       "        (raw_lengthscale_constraint): Positive()\n",
       "      )\n",
       "      (raw_outputscale_constraint): Positive()\n",
       "    )\n",
       "    (1): ScaleKernel(\n",
       "      (base_kernel): RBFKernel(\n",
       "        (raw_lengthscale_constraint): Positive()\n",
       "      )\n",
       "      (raw_outputscale_constraint): Positive()\n",
       "    )\n",
       "    (2): ScaleKernel(\n",
       "      (base_kernel): RBFKernel(\n",
       "        (raw_lengthscale_constraint): Positive()\n",
       "      )\n",
       "      (raw_outputscale_constraint): Positive()\n",
       "    )\n",
       "    (3): ScaleKernel(\n",
       "      (base_kernel): RBFKernel(\n",
       "        (raw_lengthscale_constraint): Positive()\n",
       "      )\n",
       "      (raw_outputscale_constraint): Positive()\n",
       "    )\n",
       "    (4): ScaleKernel(\n",
       "      (base_kernel): RBFKernel(\n",
       "        (raw_lengthscale_constraint): Positive()\n",
       "      )\n",
       "      (raw_outputscale_constraint): Positive()\n",
       "    )\n",
       "  )\n",
       "  (effect_covar_module): ScaleKernel(\n",
       "    (base_kernel): RBFKernel(\n",
       "      (raw_lengthscale_constraint): Positive()\n",
       "    )\n",
       "    (raw_outputscale_constraint): Positive()\n",
       "  )\n",
       ")"
      ]
     },
     "execution_count": 8,
     "metadata": {},
     "output_type": "execute_result"
    }
   ],
   "source": [
    "likelihood = GaussianLikelihood()\n",
    "model = GPModel(train_x, train_y, likelihood).double()\n",
    "\n",
    "# initialize model parameters\n",
    "hypers = {\n",
    "    'mean_module.base_mean.constantvector': unit_means,\n",
    "    'x_mean_module.base_mean.weights': torch.tensor(x_weights),\n",
    "    'likelihood.noise_covar.noise': torch.tensor(0.25),\n",
    "    'unit_covar_module.base_kernel.kernels.0.lengthscale': torch.tensor(6),\n",
    "    'unit_covar_module.base_kernel.kernels.1.lengthscale': torch.tensor(0.01),\n",
    "    'unit_covar_module.outputscale': torch.tensor(4),\n",
    "    'x_covar_module.0.outputscale': torch.tensor(1),\n",
    "    'x_covar_module.1.outputscale': torch.tensor(1),\n",
    "    'binary_covar_module.0.base_kernel.lengthscale': torch.tensor(0.01),\n",
    "    'binary_covar_module.1.base_kernel.lengthscale': torch.tensor(0.01),\n",
    "    'binary_covar_module.2.base_kernel.lengthscale': torch.tensor(0.01),\n",
    "    'binary_covar_module.3.base_kernel.lengthscale': torch.tensor(0.01),\n",
    "    'binary_covar_module.4.base_kernel.lengthscale': torch.tensor(0.01),\n",
    "    'binary_covar_module.0.outputscale': torch.tensor(1),\n",
    "    'binary_covar_module.1.outputscale': torch.tensor(1),\n",
    "    'binary_covar_module.2.outputscale': torch.tensor(1),\n",
    "    'binary_covar_module.3.outputscale': torch.tensor(1),\n",
    "    'binary_covar_module.4.outputscale': torch.tensor(1),\n",
    "    'effect_covar_module.base_kernel.lengthscale': torch.tensor(0.01),\n",
    "    'effect_covar_module.outputscale': torch.tensor(1)\n",
    "}    \n",
    "\n",
    "model.initialize(**hypers)"
   ]
  },
  {
   "attachments": {},
   "cell_type": "markdown",
   "metadata": {},
   "source": [
    "train model by optimizing hypers"
   ]
  },
  {
   "cell_type": "code",
   "execution_count": 9,
   "metadata": {},
   "outputs": [
    {
     "name": "stdout",
     "output_type": "stream",
     "text": [
      "Iter 1/50 - Loss: 2.256 \n",
      "Iter 2/50 - Loss: 2.165 \n",
      "Iter 3/50 - Loss: 2.085 \n",
      "Iter 4/50 - Loss: 2.019 \n",
      "Iter 5/50 - Loss: 1.931 \n",
      "Iter 6/50 - Loss: 1.876 \n",
      "Iter 7/50 - Loss: 1.847 \n",
      "Iter 8/50 - Loss: 1.812 \n",
      "Iter 9/50 - Loss: 1.775 \n",
      "Iter 10/50 - Loss: 1.752 \n",
      "Iter 11/50 - Loss: 1.740 \n",
      "Iter 12/50 - Loss: 1.724 \n",
      "Iter 13/50 - Loss: 1.709 \n",
      "Iter 14/50 - Loss: 1.684 \n",
      "Iter 15/50 - Loss: 1.677 \n",
      "Iter 16/50 - Loss: 1.666 \n",
      "Iter 17/50 - Loss: 1.664 \n",
      "Iter 18/50 - Loss: 1.655 \n",
      "Iter 19/50 - Loss: 1.655 \n",
      "Iter 20/50 - Loss: 1.655 \n",
      "Iter 21/50 - Loss: 1.649 \n",
      "Iter 22/50 - Loss: 1.640 \n",
      "Iter 23/50 - Loss: 1.630 \n",
      "Iter 24/50 - Loss: 1.632 \n",
      "Iter 25/50 - Loss: 1.629 \n",
      "Iter 26/50 - Loss: 1.631 \n",
      "Iter 27/50 - Loss: 1.632 \n",
      "Iter 28/50 - Loss: 1.628 \n",
      "Iter 29/50 - Loss: 1.623 \n",
      "Iter 30/50 - Loss: 1.612 \n",
      "Iter 31/50 - Loss: 1.610 \n",
      "Iter 32/50 - Loss: 1.610 \n",
      "Iter 33/50 - Loss: 1.618 \n",
      "Iter 34/50 - Loss: 1.606 \n",
      "Iter 35/50 - Loss: 1.607 \n",
      "Iter 36/50 - Loss: 1.601 \n",
      "Iter 37/50 - Loss: 1.597 \n",
      "Iter 38/50 - Loss: 1.602 \n",
      "Iter 39/50 - Loss: 1.592 \n",
      "Iter 40/50 - Loss: 1.598 \n",
      "Iter 41/50 - Loss: 1.591 \n",
      "Iter 42/50 - Loss: 1.588 \n",
      "Iter 43/50 - Loss: 1.595 \n",
      "Iter 44/50 - Loss: 1.585 \n",
      "Iter 45/50 - Loss: 1.584 \n",
      "Iter 46/50 - Loss: 1.584 \n",
      "Iter 47/50 - Loss: 1.585 \n",
      "Iter 48/50 - Loss: 1.583 \n",
      "Iter 49/50 - Loss: 1.574 \n",
      "Iter 50/50 - Loss: 1.578 \n"
     ]
    }
   ],
   "source": [
    "# train model\n",
    "model.train()\n",
    "likelihood.train()\n",
    "\n",
    "torch.manual_seed(12345)\n",
    "\n",
    "# freeze length scale in the country component in unit covar\n",
    "# freeze constant unit means\n",
    "all_params = set(model.parameters())\n",
    "final_params = list(all_params - \\\n",
    "            {model.unit_covar_module.base_kernel.kernels[1].raw_lengthscale, \\\n",
    "        #    model.unit_covar_module.raw_outputscale, \\\n",
    "        #    model.mean_module.base_mean.constantvector, \\\n",
    "        #    model.x_covar_module[0].raw_outputscale, \n",
    "        #    model.x_covar_module[1].raw_outputscale,\n",
    "        #    model.likelihood.noise_covar.raw_noise,\n",
    "            model.binary_covar_module[0].base_kernel.raw_lengthscale,\n",
    "            model.binary_covar_module[1].base_kernel.raw_lengthscale,\n",
    "            model.binary_covar_module[2].base_kernel.raw_lengthscale,\n",
    "            model.binary_covar_module[3].base_kernel.raw_lengthscale,\n",
    "            model.binary_covar_module[4].base_kernel.raw_lengthscale,\n",
    "        #    model.binary_covar_module[0].raw_outputscale,\n",
    "        #    model.binary_covar_module[1].raw_outputscale,\n",
    "        #    model.binary_covar_module[2].raw_outputscale,\n",
    "        #    model.binary_covar_module[3].raw_outputscale,\n",
    "        #    model.binary_covar_module[4].raw_outputscale,\n",
    "            model.effect_covar_module.base_kernel.raw_lengthscale})\n",
    "        #    model.effect_covar_module.raw_outputscale})\n",
    "optimizer = torch.optim.Adam(final_params, lr=0.1)\n",
    "\n",
    "# \"Loss\" for GPs - the marginal log likelihood\n",
    "mll = gpytorch.mlls.ExactMarginalLogLikelihood(likelihood, model)\n",
    "\n",
    "training_iter = 50\n",
    "for i in range(training_iter):\n",
    "    # Zero gradients from previous iteration\n",
    "    optimizer.zero_grad()\n",
    "    # Output from model\n",
    "    output = model(train_x)\n",
    "    # Calc loss and backprop gradients\n",
    "    loss = -mll(output, train_y)\n",
    "    loss.backward()\n",
    "    print('Iter %d/%d - Loss: %.3f '  % (\n",
    "        i + 1, training_iter, loss.item()\n",
    "    ))\n",
    "    optimizer.step()\n",
    "\n",
    "torch.save(model.state_dict(), \"PIRI_GPR_model.pth\")"
   ]
  },
  {
   "attachments": {},
   "cell_type": "markdown",
   "metadata": {},
   "source": [
    "generate posterior of PIRI effects"
   ]
  },
  {
   "cell_type": "code",
   "execution_count": 10,
   "metadata": {},
   "outputs": [
    {
     "name": "stdout",
     "output_type": "stream",
     "text": [
      "effect: 0.038 +- 0.214\n",
      "\n",
      "model evidence: -3372.634 \n",
      "\n",
      "BIC: 6844.941 \n",
      "\n"
     ]
    }
   ],
   "source": [
    "model.load_state_dict(torch.load('PIRI_GPR_model.pth'))\n",
    "\n",
    "model.train()\n",
    "likelihood.train()\n",
    "\n",
    "with torch.no_grad(), gpytorch.settings.fast_pred_var():\n",
    "    out = likelihood(model(train_x))\n",
    "    mu_f = out.mean\n",
    "    V = out.covariance_matrix\n",
    "    L = torch.linalg.cholesky(V, upper=False)\n",
    "\n",
    "with torch.no_grad(), gpytorch.settings.fast_pred_var():\n",
    "    model.unit_covar_module.outputscale = 0\n",
    "    for i,_ in enumerate(model.x_covar_module):\n",
    "        model.x_covar_module[i].outputscale = 0\n",
    "    for i,_ in enumerate(model.binary_covar_module):\n",
    "        model.binary_covar_module[i].outputscale = 0\n",
    "    effect_covar = model(train_x).covariance_matrix\n",
    "\n",
    "# get posterior effect mean\n",
    "alpha = torch.linalg.solve(L.t(),torch.linalg.solve(L,train_y-mu_f))\n",
    "tmp = torch.linalg.solve(L, effect_covar)\n",
    "post_effect_mean =  effect_covar @ alpha\n",
    "# get posterior effect covariance\n",
    "post_effect_covar = effect_covar - tmp.t() @ tmp\n",
    "\n",
    "effect = post_effect_mean[train_x[:,2]==1].mean() - post_effect_mean[train_x[:,2]==0].mean()\n",
    "effect_std = post_effect_covar.diag().mean().sqrt()\n",
    "BIC = (2+4+6+1)*torch.log(torch.tensor(train_x.size()[0])) + 2*loss*train_x.size()[0]\n",
    "print(\"effect: {:0.3f} +- {:0.3f}\\n\".format(effect, effect_std))\n",
    "print(\"model evidence: {:0.3f} \\n\".format(-loss*train_x.size()[0]))\n",
    "print(\"BIC: {:0.3f} \\n\".format(BIC))"
   ]
  },
  {
   "cell_type": "code",
   "execution_count": 11,
   "metadata": {},
   "outputs": [
    {
     "name": "stderr",
     "output_type": "stream",
     "text": [
      "/Users/yahoo/anaconda3/lib/python3.7/site-packages/gpytorch/models/exact_gp.py:275: GPInputWarning: The input matches the stored training data. Did you forget to call model.train()?\n",
      "  GPInputWarning,\n"
     ]
    },
    {
     "name": "stdout",
     "output_type": "stream",
     "text": [
      "0.9374067306442194\n"
     ]
    }
   ],
   "source": [
    "model.load_state_dict(torch.load('PIRI_GPR_model.pth'))\n",
    "\n",
    "model.eval()\n",
    "likelihood.eval()\n",
    "\n",
    "with torch.no_grad(), gpytorch.settings.fast_pred_var():\n",
    "    observed_pred = model(train_x)\n",
    "\n",
    "RMSE = np.square((observed_pred.mean - train_y).detach().numpy()).mean()**0.5\n",
    "print(RMSE)"
   ]
  },
  {
   "attachments": {},
   "cell_type": "markdown",
   "metadata": {},
   "source": [
    "Perform Durbin Watson tests for autocorrelation"
   ]
  },
  {
   "cell_type": "code",
   "execution_count": 12,
   "metadata": {},
   "outputs": [
    {
     "name": "stdout",
     "output_type": "stream",
     "text": [
      "0 out of 138 residuals are positively correlated.\n",
      "\n",
      "17 out of 138 residuals are negatively correlated.\n",
      "\n",
      "121 out of 138 residuals are not correlated.\n",
      "\n"
     ]
    }
   ],
   "source": [
    "# get unit trend wo AIShame\n",
    "model.load_state_dict(torch.load('PIRI_GPR_model.pth'))\n",
    "# with torch.no_grad(), gpytorch.settings.fast_pred_var():\n",
    "#     model.effect_covar_module.outputscale = 0\n",
    "#     unit_covar = likelihood(model(train_x)).covariance_matrix\n",
    "\n",
    "# # get posterior unit trend mean\n",
    "# alpha = torch.linalg.solve(L.t(),torch.linalg.solve(L,train_y-mu_f))\n",
    "# tmp = torch.linalg.solve(L, unit_covar)\n",
    "# post_unit_mean = mu_f + unit_covar @ alpha + post_effect_mean\n",
    "\n",
    "model.eval()\n",
    "likelihood.eval()\n",
    "\n",
    "with torch.no_grad(), gpytorch.settings.fast_pred_var():\n",
    "    out = likelihood(model(train_x))\n",
    "    mu_f = out.mean.numpy()\n",
    "\n",
    "# DW-test for sample size = 18 and 8 regressors.\n",
    "dL = 0.407 # 0.32\n",
    "dU = 2.668 # 2.87\n",
    "n = len(countries)\n",
    "DW_results = np.zeros((n,))\n",
    "for i in range(n):\n",
    "    mask = data.country==countries[i]\n",
    "    mask = mask.to_list()\n",
    "    res = train_y[mask] - mu_f[mask] # post_unit_mean[mask]\n",
    "    DW_results[i] = durbin_watson(res.detach().numpy())\n",
    "\n",
    "print(\"{} out of {} residuals are positively correlated.\\n\".format(np.sum(DW_results<=dL),n))\n",
    "print(\"{} out of {} residuals are negatively correlated.\\n\".format(np.sum(DW_results>=dU),n))\n",
    "print(\"{} out of {} residuals are not correlated.\\n\".format(np.sum((DW_results>dL) & (DW_results<dU)),n))\n",
    "    "
   ]
  },
  {
   "cell_type": "markdown",
   "metadata": {},
   "source": [
    "plot fitted mean trend and CI"
   ]
  },
  {
   "cell_type": "code",
   "execution_count": 13,
   "metadata": {},
   "outputs": [
    {
     "name": "stdout",
     "output_type": "stream",
     "text": [
      "   gpr_mean  true_y   gpr_lwr   gpr_upr  year country\n",
      "0  0.591223     0.0 -0.896948  2.079394  1983     USA\n",
      "1  0.605753     1.0 -0.864731  2.076238  1984     USA\n",
      "2  0.685171     1.0 -0.772356  2.142697  1985     USA\n",
      "3  0.636433     0.0 -0.804801  2.077667  1986     USA\n",
      "4  0.707243     1.0 -0.723132  2.137617  1987     USA\n"
     ]
    }
   ],
   "source": [
    "model.load_state_dict(torch.load('PIRI_GPR_model.pth'))\n",
    "\n",
    "model.eval()\n",
    "likelihood.eval()\n",
    "\n",
    "with torch.no_grad(), gpytorch.settings.fast_pred_var():\n",
    "    out = model(train_x)\n",
    "    mu_f = out.mean.numpy()\n",
    "    lower, upper = out.confidence_region()\n",
    "\n",
    "results = pd.DataFrame({\"gpr_mean\":mu_f})\n",
    "results['true_y'] = train_y\n",
    "results['gpr_lwr'] = lower\n",
    "results['gpr_upr'] = upper\n",
    "results['year'] = years[train_x[:,0].numpy().astype(int)]\n",
    "results['country'] = [countries[i] for i in train_x[:,1].numpy().astype(int)]\n",
    "print(results.head())\n",
    "results.to_csv(\"./results/PIRI_fitted_gpr.csv\",index=False) #save to file"
   ]
  },
  {
   "cell_type": "markdown",
   "metadata": {},
   "source": [
    "use autogradient to generate posterior variance of marginal effects in PIRI by small batches"
   ]
  },
  {
   "cell_type": "code",
   "execution_count": 33,
   "metadata": {},
   "outputs": [],
   "source": [
    "model.load_state_dict(torch.load('PIRI_GPR_model.pth'))\n",
    "\n",
    "model.eval()\n",
    "likelihood.eval()\n",
    "\n",
    "df_std = np.zeros((train_x.size(0),train_x.size(1)))\n",
    "x_grad = np.zeros((train_x.size(0),train_x.size(1)))\n",
    "\n",
    "n_samples = 100\n",
    "sampled_dydtest_x = np.zeros((n_samples, train_x.size(0),train_x.size(1)))\n",
    "\n",
    "# small batches of size 100\n",
    "for i in range(train_x.size(0)//100):\n",
    "    with gpytorch.settings.fast_pred_var():\n",
    "        test_x = train_x[(i*100):(i*100+100)].clone().detach().requires_grad_(True)\n",
    "        observed_pred = model(test_x)\n",
    "        dydtest_x = torch.autograd.grad(observed_pred.mean.sum(), test_x, retain_graph=True)[0]\n",
    "        x_grad[(i*100):(i*100+100)] = dydtest_x\n",
    "        loss = mll(observed_pred, train_y[(i*100):(i*100+100)])\n",
    "\n",
    "        sampled_pred = observed_pred.rsample(torch.Size([n_samples]))\n",
    "        sampled_dydtest_x[:,(i*100):(i*100+100),:] = torch.stack([torch.autograd.grad(pred.sum(), test_x, retain_graph=True)[0] for pred in sampled_pred])\n",
    "        # df_std[(i*100):(i*100+100)] = sampled_dydtest_x.std(0)\n",
    "        \n",
    "# last 100 rows\n",
    "with gpytorch.settings.fast_pred_var():\n",
    "    test_x = train_x[(100*i+100):].clone().detach().requires_grad_(True)\n",
    "    observed_pred = model(test_x)\n",
    "    dydtest_x = torch.autograd.grad(observed_pred.mean.sum(), test_x, retain_graph=True)[0]\n",
    "    x_grad[(100*i+100):] = dydtest_x\n",
    "    loss = mll(observed_pred, train_y[(100*i+100):])\n",
    "\n",
    "    sampled_pred = observed_pred.rsample(torch.Size([n_samples]))\n",
    "    sampled_dydtest_x[:,(100*i+100):,:] = torch.stack([torch.autograd.grad(pred.sum(), test_x, retain_graph=True)[0] for pred in sampled_pred])\n",
    "    # df_std[(100*i+100):] = sampled_dydtest_x.std(0)\n",
    "    "
   ]
  },
  {
   "cell_type": "code",
   "execution_count": 81,
   "metadata": {},
   "outputs": [
    {
     "data": {
      "text/plain": [
       "array([ 1.04636321e-02, -3.95240931e-09,  2.45199088e-02,  3.47392238e-02,\n",
       "        3.31899251e-01, -6.23536537e-01,  2.38673110e-02,  2.40293219e-02,\n",
       "        6.29372074e-01,  3.54057894e-01])"
      ]
     },
     "execution_count": 81,
     "metadata": {},
     "output_type": "execute_result"
    }
   ],
   "source": [
    "sampled_dydtest_x.mean(1).mean(0)"
   ]
  },
  {
   "cell_type": "code",
   "execution_count": 82,
   "metadata": {},
   "outputs": [
    {
     "data": {
      "text/plain": [
       "array([ 1.03506718e-02,  4.32058515e-12,  2.45199087e-02,  3.47392240e-02,\n",
       "        3.31899251e-01, -6.23536538e-01,  1.96147893e-02,  2.42922898e-02,\n",
       "        6.29372074e-01,  3.54057894e-01])"
      ]
     },
     "execution_count": 82,
     "metadata": {},
     "output_type": "execute_result"
    }
   ],
   "source": [
    "x_grad.mean(0)"
   ]
  },
  {
   "cell_type": "markdown",
   "metadata": {},
   "source": [
    "accesse marginal effects of regressors"
   ]
  },
  {
   "cell_type": "code",
   "execution_count": 78,
   "metadata": {},
   "outputs": [
    {
     "name": "stdout",
     "output_type": "stream",
     "text": [
      "            x  est_mean     est_std             t        pvalue\n",
      "0     AIShame  0.024520    0.001020     24.032447  0.000000e+00\n",
      "1     cat_rat  0.034739    0.006008      5.781717  3.697111e-09\n",
      "2    ccpr_rat  0.331899    0.002082    159.442311  0.000000e+00\n",
      "3  democratic -0.623537    0.000778   -801.125493  0.000000e+00\n",
      "4   log_gdppc  0.019615   62.853479      0.000312  4.998755e-01\n",
      "5     log_pop  0.024292  168.152711      0.000144  4.999424e-01\n",
      "6   Civilwar2  0.629372    0.000076   8304.203301  0.000000e+00\n",
      "7         War  0.354058    0.000008  46040.883349  0.000000e+00\n"
     ]
    }
   ],
   "source": [
    "# est_std = (df_std).mean(axis=0).round(decimals=5)\n",
    "# est_std = np.sqrt((sampled_dydtest_x.std(1)**2).mean(0) + (sampled_dydtest_x.mean(1)**2).mean(0) \\\n",
    "#                  - sampled_dydtest_x.mean(1).mean(0)**2 )\n",
    "est_std = np.sqrt(sampled_dydtest_x.mean(1).std(0)**2 + sampled_dydtest_x.std(1).mean(0)**2)\n",
    "\n",
    "est_std.round(decimals=5)\n",
    "results = pd.DataFrame({\"x\": covariate_names, \\\n",
    "                        'est_mean': x_grad.mean(axis=0)[2:10],\n",
    "                        'est_std': est_std[2:10]})\n",
    "results[\"t\"] = results['est_mean'].values/results['est_std'].values\n",
    "results[\"pvalue\"] = 1 - norm.cdf(np.abs(results[\"t\"].values))\n",
    "print(results)"
   ]
  },
  {
   "cell_type": "code",
   "execution_count": 63,
   "metadata": {},
   "outputs": [
    {
     "data": {
      "image/png": "[encoded data removed]",
      "text/plain": [
       "<Figure size 432x288 with 1 Axes>"
      ]
     },
     "metadata": {
      "needs_background": "light"
     },
     "output_type": "display_data"
    }
   ],
   "source": [
    "model.load_state_dict(torch.load('PIRI_GPR_model.pth'))\n",
    "\n",
    "model.eval()\n",
    "likelihood.eval()\n",
    "\n",
    "test_x = train_x[0:101].clone().detach().requires_grad_(False)\n",
    "for i in range(100):\n",
    "    test_x[1+i] = test_x[0].clone().detach().requires_grad_(True)\n",
    "test_x[:,6] = torch.linspace(4.5,10.5,101)\n",
    "\n",
    "with torch.no_grad(), gpytorch.settings.fast_pred_var():\n",
    "    out = model(test_x)\n",
    "    mu_f = out.mean.numpy()\n",
    "    lower, upper = out.confidence_region()\n",
    "    plt.plot(test_x[:,6].detach().numpy(), mu_f)\n",
    "    plt.plot(test_x[:,6].detach().numpy(), lower.numpy(), '--')\n",
    "    plt.plot(test_x[:,6].detach().numpy(), upper.numpy(), '--')\n",
    "    plt.xlabel(\"log_gdppc\")"
   ]
  },
  {
   "cell_type": "code",
   "execution_count": 64,
   "metadata": {},
   "outputs": [
    {
     "data": {
      "image/png": "[encoded data removed]",
      "text/plain": [
       "<Figure size 432x288 with 1 Axes>"
      ]
     },
     "metadata": {
      "needs_background": "light"
     },
     "output_type": "display_data"
    }
   ],
   "source": [
    "model.load_state_dict(torch.load('PIRI_GPR_model.pth'))\n",
    "\n",
    "model.eval()\n",
    "likelihood.eval()\n",
    "\n",
    "test_x = train_x[0:101].clone().detach().requires_grad_(False)\n",
    "for i in range(100):\n",
    "    test_x[1+i] = test_x[0].clone().detach().requires_grad_(True)\n",
    "test_x[:,7] = torch.linspace(13,21,101)\n",
    "\n",
    "with torch.no_grad(), gpytorch.settings.fast_pred_var():\n",
    "    out = model(test_x)\n",
    "    mu_f = out.mean.numpy()\n",
    "    lower, upper = out.confidence_region()\n",
    "    plt.plot(test_x[:,7].detach().numpy(), mu_f)\n",
    "    plt.plot(test_x[:,7].detach().numpy(), lower.numpy(), '--')\n",
    "    plt.plot(test_x[:,7].detach().numpy(), upper.numpy(), '--')\n",
    "    plt.xlabel(\"log_pop\")"
   ]
  },
  {
   "cell_type": "code",
   "execution_count": null,
   "metadata": {},
   "outputs": [],
   "source": []
  }
 ],
 "metadata": {
  "kernelspec": {
   "display_name": "base",
   "language": "python",
   "name": "python3"
  },
  "language_info": {
   "codemirror_mode": {
    "name": "ipython",
    "version": 3
   },
   "file_extension": ".py",
   "mimetype": "text/x-python",
   "name": "python",
   "nbconvert_exporter": "python",
   "pygments_lexer": "ipython3",
   "version": "3.7.3"
  },
  "orig_nbformat": 4
 },
 "nbformat": 4,
 "nbformat_minor": 2
}
