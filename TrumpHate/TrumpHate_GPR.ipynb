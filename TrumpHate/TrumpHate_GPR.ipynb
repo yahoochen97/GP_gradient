{
 "cells": [
  {
   "cell_type": "markdown",
   "metadata": {},
   "source": [
    "#### Trump Hate on Twitter\n",
    "\n",
    "Implement Gaussian process regression discontinuity design for Trump hate data.\n",
    "\n",
    "Siegel, Alexandra A., et al. \"Trumping hate on Twitter? Online hate speech in the 2016 US election campaign and its aftermath.\" Quarterly Journal of Political Science 16.1 (2021): 71-104.\n",
    "\n"
   ]
  },
  {
   "cell_type": "code",
   "execution_count": 1,
   "metadata": {},
   "outputs": [
    {
     "data": {
      "text/plain": [
       "<torch._C.Generator at 0x7fb70b303570>"
      ]
     },
     "execution_count": 1,
     "metadata": {},
     "output_type": "execute_result"
    }
   ],
   "source": [
    "# load gpytoch and other packages\n",
    "import torch\n",
    "import numpy as np\n",
    "import pandas as pd\n",
    "import gpytorch\n",
    "from scipy.stats import norm\n",
    "from matplotlib import pyplot as plt\n",
    "from gpytorch.means import LinearMean\n",
    "from gpytorch.likelihoods import GaussianLikelihood\n",
    "from gpytorch.kernels import ScaleKernel, RBFKernel\n",
    "from datetime import datetime\n",
    "\n",
    "torch.set_default_dtype(torch.float64)\n",
    "torch.manual_seed(12345)"
   ]
  },
  {
   "cell_type": "markdown",
   "metadata": {},
   "source": [
    "load daily proportion of white nationalist on randomly sampled tweets between June 2015 to June 2017"
   ]
  },
  {
   "cell_type": "code",
   "execution_count": 2,
   "metadata": {},
   "outputs": [],
   "source": [
    "# read data\n",
    "data = pd.read_csv(\"./data/white_nationalist_random.csv\")\n",
    "\n",
    "# format date as datatime\n",
    "# and turn date into time index\n",
    "xs = data.date\n",
    "xs = xs.apply(lambda x: (datetime.strptime(x,\"%Y-%m-%d\")-datetime.strptime(xs[0],\"%Y-%m-%d\")).days)\n",
    "ys_scale = 1e5\n",
    "ys = torch.tensor(data.norm_hate.values).double() * ys_scale\n",
    "# xs: time, election indicator, time * election indicator\n",
    "xs = torch.tensor(np.array([xs.values, data.election.values,\n",
    "                            xs.values*data.election.values]).T).double()\n",
    "\n",
    "election_day_index = np.where(xs[:,1])[0][0]"
   ]
  },
  {
   "cell_type": "markdown",
   "metadata": {},
   "source": [
    "we build a Gaussian process regression model with an automatic relevance determination RBF kernel:\n",
    "$$\n",
    "f(t,D) \\sim\\mathcal{GP}(\\beta_0+\\beta_1 t + \\beta_2 D + \\beta_3 Dt,K)\n",
    "$$\n",
    "The mean function includes a baseline intercept $\\beta_0$, a pre-election linear time effect $\\beta_1$, an instanteneous change at election $\\beta_2$ and a post-election linear time effect $\\beta_3+\\beta_1$. The covariance function allows non-linear deviation of the daily proportions from the linear trend."
   ]
  },
  {
   "cell_type": "code",
   "execution_count": 3,
   "metadata": {},
   "outputs": [],
   "source": [
    "class GPModel(gpytorch.models.ExactGP):\n",
    "    def __init__(self, train_x, train_y, likelihood):\n",
    "        super().__init__(train_x, train_y, likelihood)\n",
    "        # constant country-level mean\n",
    "        self.mean_module = LinearMean(input_size=3, bias=True)\n",
    "        self.covar_module = ScaleKernel(RBFKernel(ard_num_dims=3))\n",
    "\n",
    "    def forward(self, x):\n",
    "        mean_x = self.mean_module(x)\n",
    "        covar_x = self.covar_module(x)\n",
    "        \n",
    "        return gpytorch.distributions.MultivariateNormal(mean_x, covar_x)"
   ]
  },
  {
   "cell_type": "markdown",
   "metadata": {},
   "source": [
    "now we initialize the model and use `Adam()` optimizer to learn the hyperparameters."
   ]
  },
  {
   "cell_type": "code",
   "execution_count": 4,
   "metadata": {},
   "outputs": [
    {
     "name": "stderr",
     "output_type": "stream",
     "text": [
      "/Users/yahoo/anaconda3/lib/python3.7/site-packages/gpytorch/lazy/triangular_lazy_tensor.py:136: UserWarning: torch.triangular_solve is deprecated in favor of torch.linalg.solve_triangularand will be removed in a future PyTorch release.\n",
      "torch.linalg.solve_triangular has its arguments reversed and does not return a copy of one of the inputs.\n",
      "X = torch.triangular_solve(B, A).solution\n",
      "should be replaced with\n",
      "X = torch.linalg.solve_triangular(A, B). (Triggered internally at  /Users/runner/work/pytorch/pytorch/pytorch/aten/src/ATen/native/BatchLinearAlgebra.cpp:2189.)\n",
      "  res = torch.triangular_solve(right_tensor, self.evaluate(), upper=self.upper).solution\n"
     ]
    },
    {
     "name": "stdout",
     "output_type": "stream",
     "text": [
      "Iter 0/500 - Loss: -0.188 \n",
      "Iter 100/500 - Loss: -0.166 \n",
      "Iter 200/500 - Loss: -0.185 \n",
      "Iter 300/500 - Loss: -0.185 \n",
      "Iter 400/500 - Loss: -0.185 \n"
     ]
    }
   ],
   "source": [
    "likelihood = GaussianLikelihood()\n",
    "model = GPModel(xs, ys, likelihood).double()\n",
    "\n",
    "# initialize model parameters\n",
    "hypers = {\n",
    "    'mean_module.bias': torch.tensor([0.]),\n",
    "    'mean_module.weights': torch.tensor([0.,0.,0.]),\n",
    "    'covar_module.outputscale': torch.var(ys),\n",
    "    'covar_module.base_kernel.lengthscale': torch.tensor([90.,10, 90.]), # initialize with quarterly change\n",
    "    'likelihood.noise': torch.var(ys),\n",
    "}    \n",
    "\n",
    "model = model.initialize(**hypers)\n",
    "\n",
    "# train model\n",
    "model.train()\n",
    "likelihood.train()\n",
    "\n",
    "all_params = set(model.parameters())\n",
    "optimizer = torch.optim.Adam(all_params, lr=0.05)\n",
    "\n",
    "# \"Loss\" for GPs - the marginal log likelihood\n",
    "mll = gpytorch.mlls.ExactMarginalLogLikelihood(likelihood, model)\n",
    "\n",
    "training_iter = 500\n",
    "losses = []\n",
    "for i in range(training_iter):\n",
    "    optimizer.zero_grad()\n",
    "    output = model(xs)\n",
    "    loss = -mll(output, ys)\n",
    "    loss.backward()\n",
    "    if i % 100 == 0:\n",
    "        print('Iter %d/%d - Loss: %.3f '  % (\n",
    "            i , training_iter, loss.item()\n",
    "        ))\n",
    "    losses.append(loss.item())\n",
    "    optimizer.step()"
   ]
  },
  {
   "cell_type": "markdown",
   "metadata": {},
   "source": [
    "visualize the posterior"
   ]
  },
  {
   "cell_type": "code",
   "execution_count": 5,
   "metadata": {},
   "outputs": [
    {
     "name": "stderr",
     "output_type": "stream",
     "text": [
      "/Users/yahoo/anaconda3/lib/python3.7/site-packages/gpytorch/models/exact_gp.py:275: GPInputWarning: The input matches the stored training data. Did you forget to call model.train()?\n",
      "  GPInputWarning,\n"
     ]
    },
    {
     "data": {
      "image/png": "[encoded data removed]",
      "text/plain": [
       "<Figure size 864x432 with 1 Axes>"
      ]
     },
     "metadata": {
      "needs_background": "light"
     },
     "output_type": "display_data"
    }
   ],
   "source": [
    "# set model and likelihood to evaluation mode\n",
    "model.eval()\n",
    "likelihood.eval()\n",
    "\n",
    "with torch.no_grad(), gpytorch.settings.fast_pred_var():\n",
    "    out = model(xs)\n",
    "    mu_f = out.mean.numpy()\n",
    "    lower, upper = out.confidence_region()\n",
    "\n",
    "# store results\n",
    "results = pd.DataFrame({\"gpr_mean\":mu_f/ys_scale})\n",
    "results['true_y'] = ys/ys_scale\n",
    "results['gpr_lwr'] = lower/ys_scale\n",
    "results['gpr_upr'] = upper/ys_scale\n",
    "results['day'] = xs[:,0].numpy().astype(int)\n",
    "results.to_csv(\"./results/TrumpHate_fitted_gpr.csv\",index=False) #save to file\n",
    "\n",
    "f, ax = plt.subplots(1, 1, figsize=(12, 6))\n",
    "ax.vlines(xs[:,0].numpy(), 0*ys.numpy(), ys.numpy()/ys_scale, colors='k')\n",
    "ax.plot(xs[:,0].numpy(), out.mean.numpy()/ys_scale, 'b')\n",
    "ax.fill_between(xs[:,0].numpy(), lower.numpy()/ys_scale, upper.numpy()/ys_scale, alpha=0.5)\n",
    "ax.axvline(x=election_day_index, ls=\"--\")\n",
    "ax.text(election_day_index-80, ys.numpy().max()/ys_scale, \"Election Day\", rotation=0, verticalalignment='center')\n",
    "ax.legend(['Data', 'GPR mean', '95% CI'])\n",
    "ax.set_xlabel(\"Date\")\n",
    "ax.set_ylabel(\"Daily Proportion of Tweets\")\n",
    "ax.set_xticks(np.arange(xs[:,0].min().data,xs[:,0].max().data,120))\n",
    "ax.set_xticklabels([\"06-2015\",\"10-2015\",\"02-2016\",\"06-2016\",\"10-2016\",\"02-2017\",\"06-2017\"])\n",
    "ax.spines['top'].set_visible(False)\n",
    "ax.spines['right'].set_visible(False)"
   ]
  },
  {
   "cell_type": "markdown",
   "metadata": {},
   "source": [
    "use `autograd` to compute gradients of daily porportion w.r.t inputs"
   ]
  },
  {
   "cell_type": "code",
   "execution_count": 6,
   "metadata": {},
   "outputs": [],
   "source": [
    "model.eval()\n",
    "likelihood.eval()\n",
    "\n",
    "# number of empirically sample \n",
    "n_samples = 100\n",
    "x_grad = np.zeros((xs.size(0),xs.size(1)))\n",
    "sampled_dydtest_x = np.zeros((n_samples, xs.size(0),xs.size(1)))\n",
    "\n",
    "# we proceed in small batches of size 100 for speed up\n",
    "for i in range(xs.size(0)//100):\n",
    "    with gpytorch.settings.fast_pred_var():\n",
    "        test_x = xs[(i*100):(i*100+100)].clone().detach().requires_grad_(True)\n",
    "        observed_pred = likelihood(model(test_x))\n",
    "        dydtest_x = torch.autograd.grad(observed_pred.mean.sum(), test_x, retain_graph=True)[0]\n",
    "        x_grad[(i*100):(i*100+100)] = dydtest_x\n",
    "\n",
    "        sampled_pred = observed_pred.rsample(torch.Size([n_samples]))\n",
    "        sampled_dydtest_x[:,(i*100):(i*100+100),:] = torch.stack([torch.autograd.grad(pred.sum(), \\\n",
    "                                    test_x, retain_graph=True)[0] for pred in sampled_pred])\n",
    "        \n",
    "# last 100 rows\n",
    "with gpytorch.settings.fast_pred_var():\n",
    "    test_x = xs[(100*i+100):].clone().detach().requires_grad_(True)\n",
    "    observed_pred = likelihood(model(test_x))\n",
    "    dydtest_x = torch.autograd.grad(observed_pred.mean.sum(), test_x, retain_graph=True)[0]\n",
    "    x_grad[(100*i+100):] = dydtest_x\n",
    "\n",
    "    sampled_pred = observed_pred.rsample(torch.Size([n_samples]))\n",
    "    sampled_dydtest_x[:,(100*i+100):,:] = torch.stack([torch.autograd.grad(pred.sum(),\\\n",
    "                                     test_x, retain_graph=True)[0] for pred in sampled_pred])\n",
    "    "
   ]
  },
  {
   "cell_type": "code",
   "execution_count": 7,
   "metadata": {},
   "outputs": [
    {
     "data": {
      "text/plain": [
       "torch.Size([730, 3])"
      ]
     },
     "execution_count": 7,
     "metadata": {},
     "output_type": "execute_result"
    }
   ],
   "source": [
    "xs.shape"
   ]
  },
  {
   "cell_type": "markdown",
   "metadata": {},
   "source": [
    "posterior of slope parameters ( $\\beta_1$ and $\\beta_3$)"
   ]
  },
  {
   "cell_type": "code",
   "execution_count": 8,
   "metadata": {},
   "outputs": [
    {
     "name": "stdout",
     "output_type": "stream",
     "text": [
      "       x      est_mean       est_std          t         pvalue\n",
      "0  beta1 -2.837684e-10  6.979100e-11  -4.065974   2.391612e-05\n",
      "1  beta3  1.183767e-09  3.333900e-11  35.506980  1.917843e-276\n"
     ]
    }
   ],
   "source": [
    "est_std = np.sqrt(sampled_dydtest_x.var((0,1))/xs.size(0)/n_samples).round(decimals=10)\n",
    "covariate_names = [\"beta1\", \"beta3\"]\n",
    "results = pd.DataFrame({\"x\": covariate_names, \\\n",
    "                        'est_mean': x_grad.mean(axis=0)[[0,2]]/ys_scale,\n",
    "                        'est_std': est_std[[0,2]]/ys_scale})\n",
    "results[\"t\"] = results['est_mean'].values/results['est_std'].values\n",
    "results[\"pvalue\"] = norm.cdf(-np.abs(results[\"t\"].values))\n",
    "print(results)"
   ]
  },
  {
   "cell_type": "markdown",
   "metadata": {},
   "source": [
    "posterior of instaneous change on Election Day"
   ]
  },
  {
   "cell_type": "code",
   "execution_count": 9,
   "metadata": {},
   "outputs": [
    {
     "name": "stdout",
     "output_type": "stream",
     "text": [
      "instaneous shift on Election Day: 8.98E-07 +- 2.49E-08\n",
      "\n",
      "log lik: 134.923 \n",
      "\n",
      "BIC: -217.101 \n",
      "\n"
     ]
    }
   ],
   "source": [
    "model.eval()\n",
    "likelihood.eval()\n",
    "\n",
    "# copy training tesnor to test tensors and set AIshame to 1 and 0\n",
    "test_x = xs[(election_day_index-1):(election_day_index+1)].clone().detach().requires_grad_(False)\n",
    "\n",
    "# in eval mode the forward() function returns posterioir\n",
    "with torch.no_grad(), gpytorch.settings.fast_pred_var():\n",
    "    out = model(test_x)\n",
    "\n",
    "# compute ATE of election and its uncertainty\n",
    "effect = out.mean.numpy()[1] - out.mean.numpy()[0]\n",
    "effect_std = np.sqrt((out.covariance_matrix.diag().detach().numpy().sum())/xs.size(0))\n",
    "print(\"instaneous shift on Election Day: {:.2E} +- {:.2E}\\n\".format(effect/ys_scale, effect_std/ys_scale))\n",
    "BIC = (4+3+1)*torch.log(torch.tensor(xs.size()[0])) + 2*loss*xs.size()[0]\n",
    "print(\"log lik: {:0.3f} \\n\".format(-loss*xs.size()[0]))\n",
    "print(\"BIC: {:0.3f} \\n\".format(BIC))"
   ]
  },
  {
   "cell_type": "markdown",
   "metadata": {},
   "source": [
    "compare with linear model"
   ]
  },
  {
   "cell_type": "code",
   "execution_count": 10,
   "metadata": {},
   "outputs": [
    {
     "name": "stdout",
     "output_type": "stream",
     "text": [
      "                            OLS Regression Results                            \n",
      "==============================================================================\n",
      "Dep. Variable:              norm_hate   R-squared:                       0.029\n",
      "Model:                            OLS   Adj. R-squared:                  0.024\n",
      "Method:                 Least Squares   F-statistic:                     7.100\n",
      "Date:                Tue, 04 Jun 2024   Prob (F-statistic):           0.000105\n",
      "Time:                        13:52:23   Log-Likelihood:                 8560.9\n",
      "No. Observations:                 730   AIC:                        -1.711e+04\n",
      "Df Residuals:                     726   BIC:                        -1.710e+04\n",
      "Df Model:                           3                                         \n",
      "Covariance Type:            nonrobust                                         \n",
      "=======================================================================================\n",
      "                          coef    std err          t      P>|t|      [0.025      0.975]\n",
      "---------------------------------------------------------------------------------------\n",
      "Intercept              1.2e-06   1.73e-07      6.939      0.000    8.61e-07    1.54e-06\n",
      "time_index          -6.978e-10   5.87e-10     -1.188      0.235   -1.85e-09    4.55e-10\n",
      "election            -4.757e-07   1.32e-06     -0.362      0.718   -3.06e-06    2.11e-06\n",
      "time_index:election  2.299e-09   2.17e-09      1.057      0.291   -1.97e-09    6.57e-09\n",
      "==============================================================================\n",
      "Omnibus:                      301.746   Durbin-Watson:                   2.071\n",
      "Prob(Omnibus):                  0.000   Jarque-Bera (JB):             1218.344\n",
      "Skew:                           1.933   Prob(JB):                    2.75e-265\n",
      "Kurtosis:                       8.011   Cond. No.                     9.39e+03\n",
      "==============================================================================\n",
      "\n",
      "Notes:\n",
      "[1] Standard Errors assume that the covariance matrix of the errors is correctly specified.\n",
      "[2] The condition number is large, 9.39e+03. This might indicate that there are\n",
      "strong multicollinearity or other numerical problems.\n"
     ]
    }
   ],
   "source": [
    "import statsmodels.formula.api as sm\n",
    "\n",
    "data[\"time_index\"] = xs[:,0].numpy()\n",
    "lm = sm.ols('norm_hate ~ time_index + election + time_index:election', data).fit()\n",
    "print(lm.summary())"
   ]
  },
  {
   "cell_type": "code",
   "execution_count": null,
   "metadata": {},
   "outputs": [],
   "source": []
  }
 ],
 "metadata": {
  "kernelspec": {
   "display_name": "base",
   "language": "python",
   "name": "python3"
  },
  "language_info": {
   "codemirror_mode": {
    "name": "ipython",
    "version": 3
   },
   "file_extension": ".py",
   "mimetype": "text/x-python",
   "name": "python",
   "nbconvert_exporter": "python",
   "pygments_lexer": "ipython3",
   "version": "3.7.3"
  },
  "orig_nbformat": 4
 },
 "nbformat": 4,
 "nbformat_minor": 2
}
