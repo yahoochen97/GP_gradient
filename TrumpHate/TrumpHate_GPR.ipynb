{
 "cells": [
  {
   "cell_type": "markdown",
   "metadata": {},
   "source": [
    "#### Trump Hate on Twitter\n",
    "\n",
    "Implement Gaussian process regression discontinuity design for Trump hate data.\n",
    "\n",
    "Siegel, Alexandra A., et al. \"Trumping hate on Twitter? Online hate speech in the 2016 US election campaign and its aftermath.\" Quarterly Journal of Political Science 16.1 (2021): 71-104.\n",
    "\n"
   ]
  },
  {
   "cell_type": "code",
   "execution_count": 1,
   "metadata": {},
   "outputs": [
    {
     "data": {
      "text/plain": [
       "<torch._C.Generator at 0x7f88039f6570>"
      ]
     },
     "execution_count": 1,
     "metadata": {},
     "output_type": "execute_result"
    }
   ],
   "source": [
    "# load gpytoch and other packages\n",
    "import torch\n",
    "import numpy as np\n",
    "import pandas as pd\n",
    "import gpytorch\n",
    "from scipy.stats import norm\n",
    "from matplotlib import pyplot as plt\n",
    "from gpytorch.means import LinearMean, ZeroMean\n",
    "from gpytorch.likelihoods import GaussianLikelihood\n",
    "from gpytorch.kernels import ScaleKernel, RBFKernel, PeriodicKernel, CosineKernel\n",
    "from datetime import datetime\n",
    "\n",
    "torch.manual_seed(12345)"
   ]
  },
  {
   "cell_type": "markdown",
   "metadata": {},
   "source": [
    "load daily proportion of white nationalist on randomly sampled tweets between June 2015 to June 2017"
   ]
  },
  {
   "cell_type": "code",
   "execution_count": 2,
   "metadata": {},
   "outputs": [],
   "source": [
    "# read data\n",
    "data = pd.read_csv(\"./data/white_nationalist_random.csv\")\n",
    "\n",
    "# format date as datatime\n",
    "# and turn date into time index\n",
    "xs = data.date\n",
    "xs = xs.apply(lambda x: (datetime.strptime(x,\"%Y-%m-%d\")-datetime.strptime(xs[0],\"%Y-%m-%d\")).days)\n",
    "ys_scale = 1e6\n",
    "ys = torch.tensor(data.norm_hate.values).double() * ys_scale\n",
    "\n",
    "# xs: time, election indicator, time * election indicator\n",
    "xs = torch.tensor(np.array([xs.values, data.election.values,\n",
    "                            xs.values*data.election.values]).T).double()\n",
    "# xs = xs[:,0:2]\n",
    "election_day_index = np.where(xs[:,1])[0][0]\n"
   ]
  },
  {
   "cell_type": "markdown",
   "metadata": {},
   "source": [
    "we build a Gaussian process regression model with an automatic relevance determination RBF kernel:\n",
    "$$\n",
    "f(t,D) \\sim\\mathcal{GP}(\\beta_0+\\beta_1 t + \\beta_2 D + \\beta_3 Dt,K)\n",
    "$$\n",
    "The mean function includes a baseline intercept $\\beta_0$, a pre-election linear time effect $\\beta_1$, an instanteneous change at election $\\beta_2$ and a post-election linear time effect $\\beta_3+\\beta_1$. The covariance function allows non-linear deviation of the daily proportions from the linear trend."
   ]
  },
  {
   "cell_type": "code",
   "execution_count": 3,
   "metadata": {},
   "outputs": [],
   "source": [
    "class GPModel(gpytorch.models.ExactGP):\n",
    "    def __init__(self, train_x, train_y, likelihood):\n",
    "        super().__init__(train_x, train_y, likelihood)\n",
    "        # constant country-level mean\n",
    "        self.mean_module = LinearMean(input_size=train_x.shape[1], bias=True)\n",
    "        self.covar_module = ScaleKernel(RBFKernel(active_dims=[0]))\n",
    "    \n",
    "    def forward(self, x):\n",
    "        mean_x = self.mean_module(x)\n",
    "        covar_x = self.covar_module(x)\n",
    "        \n",
    "        return gpytorch.distributions.MultivariateNormal(mean_x, covar_x)\n",
    "    "
   ]
  },
  {
   "cell_type": "code",
   "execution_count": 4,
   "metadata": {},
   "outputs": [
    {
     "name": "stdout",
     "output_type": "stream",
     "text": [
      "-17055.209611175127\n"
     ]
    }
   ],
   "source": [
    "import statsmodels.formula.api as sm\n",
    "\n",
    "data[\"time_index\"] = xs[:,0].numpy()\n",
    "lm = sm.ols('norm_hate ~ time_index + election + time_index:election - 1', data).fit()\n",
    "coefs = lm.params.to_dict()\n",
    "covariate_names = [\"time_index\" ,\"election\" , \"time_index:election\"]\n",
    "x_weights = list(map(coefs.get, covariate_names))\n",
    "print(lm.bic)"
   ]
  },
  {
   "cell_type": "markdown",
   "metadata": {},
   "source": [
    "now we initialize the model and use `Adam()` optimizer to learn the hyperparameters."
   ]
  },
  {
   "cell_type": "code",
   "execution_count": 5,
   "metadata": {},
   "outputs": [
    {
     "name": "stdout",
     "output_type": "stream",
     "text": [
      "Iter 0/500 - Loss: 2.873 \n"
     ]
    },
    {
     "name": "stderr",
     "output_type": "stream",
     "text": [
      "/Users/yahoo/anaconda3/lib/python3.7/site-packages/gpytorch/lazy/triangular_lazy_tensor.py:136: UserWarning: torch.triangular_solve is deprecated in favor of torch.linalg.solve_triangularand will be removed in a future PyTorch release.\n",
      "torch.linalg.solve_triangular has its arguments reversed and does not return a copy of one of the inputs.\n",
      "X = torch.triangular_solve(B, A).solution\n",
      "should be replaced with\n",
      "X = torch.linalg.solve_triangular(A, B). (Triggered internally at  /Users/runner/work/pytorch/pytorch/pytorch/aten/src/ATen/native/BatchLinearAlgebra.cpp:2189.)\n",
      "  res = torch.triangular_solve(right_tensor, self.evaluate(), upper=self.upper).solution\n"
     ]
    },
    {
     "name": "stdout",
     "output_type": "stream",
     "text": [
      "Iter 50/500 - Loss: 2.233 \n",
      "Iter 100/500 - Loss: 2.146 \n",
      "Iter 150/500 - Loss: 2.123 \n",
      "Iter 200/500 - Loss: 2.114 \n",
      "Iter 250/500 - Loss: 2.109 \n",
      "Iter 300/500 - Loss: 2.107 \n",
      "Iter 350/500 - Loss: 2.105 \n",
      "Iter 400/500 - Loss: 2.104 \n",
      "Iter 450/500 - Loss: 2.104 \n"
     ]
    }
   ],
   "source": [
    "torch.set_default_dtype(torch.float64)\n",
    "torch.manual_seed(12345)\n",
    "\n",
    "likelihood = GaussianLikelihood()\n",
    "model = GPModel(xs, ys, likelihood).double()\n",
    "\n",
    "# initialize model parameters\n",
    "hypers = {\n",
    "    'mean_module.weights': torch.tensor([0,0,0]), #\n",
    "    'covar_module.outputscale': 1,\n",
    "    'covar_module.base_kernel.lengthscale': torch.tensor([90.]), # 90.,10, 90\n",
    "    'likelihood.noise': 1,\n",
    "}    \n",
    "\n",
    "model = model.initialize(**hypers)\n",
    "\n",
    "# train model\n",
    "model.train()\n",
    "likelihood.train()\n",
    "\n",
    "all_params = set(model.parameters())\n",
    "model.covar_module.base_kernel.raw_lengthscale.requires_grad = False\n",
    "optimizer = torch.optim.Adam(all_params, lr=0.05)\n",
    "\n",
    "# \"Loss\" for GPs - the marginal log likelihood\n",
    "mll = gpytorch.mlls.ExactMarginalLogLikelihood(likelihood, model)\n",
    "\n",
    "training_iter = 500\n",
    "losses = []\n",
    "for i in range(training_iter):\n",
    "    optimizer.zero_grad()\n",
    "    output = model(xs)\n",
    "    loss = -mll(output, ys)\n",
    "    loss.backward()\n",
    "    if i % 50 == 0:\n",
    "        print('Iter %d/%d - Loss: %.3f '  % (\n",
    "            i , training_iter, loss.item()\n",
    "        ))\n",
    "    losses.append(loss.item())\n",
    "    optimizer.step()\n"
   ]
  },
  {
   "cell_type": "markdown",
   "metadata": {},
   "source": [
    "visualize the posterior"
   ]
  },
  {
   "cell_type": "code",
   "execution_count": 6,
   "metadata": {},
   "outputs": [
    {
     "name": "stderr",
     "output_type": "stream",
     "text": [
      "/Users/yahoo/anaconda3/lib/python3.7/site-packages/gpytorch/models/exact_gp.py:275: GPInputWarning: The input matches the stored training data. Did you forget to call model.train()?\n",
      "  GPInputWarning,\n"
     ]
    }
   ],
   "source": [
    "# set model and likelihood to evaluation mode\n",
    "model.eval()\n",
    "likelihood.eval()\n",
    "\n",
    "with torch.no_grad(), gpytorch.settings.fast_pred_var():\n",
    "    out = model(xs)\n",
    "    loss = -mll(output, ys)-np.log(ys_scale)\n",
    "    mu_f = out.mean.numpy()\n",
    "    lower, upper = out.confidence_region()\n",
    "\n",
    "# store results\n",
    "results = pd.DataFrame({\"gpr_mean\":mu_f/ys_scale})\n",
    "results['true_y'] = ys/ys_scale\n",
    "results['gpr_lwr'] = lower/ys_scale\n",
    "results['gpr_upr'] = upper/ys_scale\n",
    "results['day'] = xs[:,0].numpy().astype(int)\n",
    "results.to_csv(\"./results/TrumpHate_fitted_gpr.csv\",index=False) #save to file\n"
   ]
  },
  {
   "cell_type": "code",
   "execution_count": 7,
   "metadata": {},
   "outputs": [
    {
     "name": "stdout",
     "output_type": "stream",
     "text": [
      "instaneous shift on Election Day: 7.35E-07 +- 2.79E-07\n",
      "\n",
      "0.0042473333604365615\n",
      "log lik: 8549.6996 \n",
      "\n",
      "BIC: -17053.248 \n",
      "\n"
     ]
    }
   ],
   "source": [
    "# copy training tesnor to test tensors and set election to 1 and 0\n",
    "test_x1 = xs.clone().detach().requires_grad_(False)\n",
    "test_x1[:,1] = 1\n",
    "test_x0 = xs.clone().detach().requires_grad_(False)\n",
    "test_x0[:,1] = 0\n",
    "\n",
    "# in eval mode the forward() function returns posterioir\n",
    "with torch.no_grad(), gpytorch.settings.fast_pred_var():\n",
    "    out1 = model(test_x1)\n",
    "    out0 = model(test_x0)\n",
    "\n",
    "# compute ATE and its uncertainty\n",
    "effect = out1.mean.numpy()[election_day_index+1]-out0.mean.numpy()[election_day_index-1]\n",
    "effect_std = np.sqrt((out1.variance.detach().numpy()[election_day_index+1]\\\n",
    "                      +out0.variance.detach().numpy()[election_day_index-1]))\n",
    "print(\"instaneous shift on Election Day: {:.2E} +- {:.2E}\\n\".format(effect/ys_scale, effect_std/ys_scale))\n",
    "BIC = (3+2+2)*torch.log(torch.tensor(xs.size(0))) + 2*loss*xs.size()[0]\n",
    "print(norm.cdf(-np.abs(effect/effect_std)))\n",
    "print(\"log lik: {:4.4f} \\n\".format(-loss.numpy()*xs.size(0)))\n",
    "print(\"BIC: {:0.3f} \\n\".format(BIC))"
   ]
  },
  {
   "cell_type": "code",
   "execution_count": 8,
   "metadata": {},
   "outputs": [
    {
     "name": "stdout",
     "output_type": "stream",
     "text": [
      "ATT: 8.78E-07 +- 3.04E-07\n",
      "\n"
     ]
    }
   ],
   "source": [
    "# set model and likelihood to evaluation mode\n",
    "model.eval()\n",
    "likelihood.eval()\n",
    "\n",
    "xss = xs.clone().detach().requires_grad_(False)\n",
    "xss[xs[:,1]==1,1] = 0\n",
    "xss[xs[:,1]==1,2] = 0\n",
    "with torch.no_grad():\n",
    "    out0 = model(xss)\n",
    "    mu_f0 = out0.mean.numpy()\n",
    "    lower0, upper0 = out0.confidence_region()\n",
    "\n",
    "# compute ATE and its uncertainty\n",
    "mask1 = (xs[:,0] >= election_day_index ) & (xs[:,1]==1)\n",
    "effect = out1.mean.numpy()[mask1].mean()-out0.mean.numpy()[mask1].mean()\n",
    "effect_std = np.sqrt((out1.variance.detach().numpy()[mask1].mean()\\\n",
    "                      + out0.variance.detach().numpy()[mask1].mean()))\n",
    "\n",
    "print(\"ATT: {:.2E} +- {:.2E}\\n\".format(effect/ys_scale, effect_std/ys_scale))"
   ]
  },
  {
   "cell_type": "markdown",
   "metadata": {},
   "source": [
    "posterior of instaneous change on Election Day"
   ]
  },
  {
   "cell_type": "code",
   "execution_count": 9,
   "metadata": {},
   "outputs": [
    {
     "data": {
      "image/png": "[encoded data removed]",
      "text/plain": [
       "<Figure size 864x432 with 1 Axes>"
      ]
     },
     "metadata": {
      "needs_background": "light"
     },
     "output_type": "display_data"
    }
   ],
   "source": [
    "f, ax = plt.subplots(1, 1, figsize=(12, 6))\n",
    "ax.vlines(xs[:,0].numpy(), 0*ys.numpy(), ys.numpy()/ys_scale, color='k')\n",
    "ax.plot(xs[:,0].numpy(), out.mean.numpy()/ys_scale, 'b')\n",
    "ax.fill_between(xs[:,0].numpy(), lower.numpy()/ys_scale, upper.numpy()/ys_scale, alpha=0.5)\n",
    "\n",
    "ax.plot(xs[:,0].numpy()[xs[:,1]==1], out0.mean.numpy()[xs[:,1]==1]/ys_scale, 'g')\n",
    "ax.fill_between(xs[:,0].numpy()[xs[:,1]==1], lower0.numpy()[xs[:,1]==1]/ys_scale, \\\n",
    "                upper0.numpy()[xs[:,1]==1]/ys_scale, alpha=0.5)\n",
    "\n",
    "\n",
    "ax.axvline(x=election_day_index, ls=\"--\")\n",
    "ax.text(election_day_index-80, ys.numpy().max()/ys_scale, \"Election Day\", rotation=0, verticalalignment='center')\n",
    "ax.text(election_day_index-250, ys.numpy().max()/ys_scale - 3.6 / ys_scale, \"ATT: {:.2E} +- {:.2E}\\n\".format(effect/ys_scale, effect_std/ys_scale), \\\n",
    "        rotation=0, verticalalignment='center', color='gray')\n",
    "\n",
    "ax.legend(['Data', 'Factual mean', 'Factual 95% CI', 'Counterfactual mean',\\\n",
    "            'Counterfactual 95% CI'], loc='best', frameon=False)\n",
    "ax.set_xlabel(\"Date\")\n",
    "ax.set_ylabel(\"Daily Proportion of Tweets\")\n",
    "ax.set_xticks(np.arange(xs[:,0].min().data,xs[:,0].max().data,120))\n",
    "ax.set_xticklabels([\"06-2015\",\"10-2015\",\"02-2016\",\"06-2016\",\"10-2016\",\"02-2017\",\"06-2017\"])\n",
    "ax.spines['top'].set_visible(False)\n",
    "ax.spines['right'].set_visible(False)\n",
    "plt.savefig(\"./results/trumphate_est.pdf\", dpi=100)"
   ]
  }
 ],
 "metadata": {
  "kernelspec": {
   "display_name": "base",
   "language": "python",
   "name": "python3"
  },
  "language_info": {
   "codemirror_mode": {
    "name": "ipython",
    "version": 3
   },
   "file_extension": ".py",
   "mimetype": "text/x-python",
   "name": "python",
   "nbconvert_exporter": "python",
   "pygments_lexer": "ipython3",
   "version": "3.7.3"
  },
  "orig_nbformat": 4
 },
 "nbformat": 4,
 "nbformat_minor": 2
}
