{
 "cells": [
  {
   "attachments": {},
   "cell_type": "markdown",
   "metadata": {},
   "source": [
    "## Demonstration of Synthetic Data with Latitude and Longitude from a GP with ARD\n",
    "\n",
    "Training data are used to learn hyperparameters and inferring the latent GP posterior.\n",
    "\n",
    "Testing data are used to infer latent theta at new locations."
   ]
  },
  {
   "cell_type": "code",
   "execution_count": 1,
   "metadata": {},
   "outputs": [],
   "source": [
    "# LOAD PACKAGES\n",
    "import warnings\n",
    "import torch\n",
    "from gpytorch.distributions import base_distributions\n",
    "from gpytorch.functions import log_normal_cdf\n",
    "from gpytorch.likelihoods.likelihood import _OneDimensionalLikelihood\n",
    "\n",
    "import numpy as np\n",
    "import pandas as pd\n",
    "import matplotlib.pyplot as plt\n",
    "from gpytorch.variational import CholeskyVariationalDistribution\n",
    "from gpytorch.variational import VariationalStrategy\n",
    "import gpytorch\n",
    "import time as time"
   ]
  },
  {
   "cell_type": "code",
   "execution_count": 2,
   "metadata": {},
   "outputs": [],
   "source": [
    "# implement BinomialLikelihood\n",
    "class BinomialLikelihood(_OneDimensionalLikelihood):\n",
    "    r\"\"\"\n",
    "    Implements the Binomial likelihood for count data y between 1 and m. \n",
    "    The Binomial distribution is parameterized by :math:`m > 0`. \n",
    "    We can write the likelihood as:\n",
    "\n",
    "    .. math::\n",
    "        \\begin{equation*}\n",
    "            p(Y=y|f,m)=\\phi(f)^y(1-\\phi(f))^{(m-y)}\n",
    "        \\end{equation*}\n",
    "    \"\"\"\n",
    "\n",
    "    def __init__(self, n_trials):\n",
    "        super().__init__()\n",
    "        self.n_trials = n_trials\n",
    "\n",
    "    def forward(self, function_samples, **kwargs):\n",
    "        output_probs = base_distributions.Normal(0, 1).cdf(function_samples)\n",
    "        print(output_probs.size())\n",
    "        return base_distributions.Binomial(total_count=self.n_trials, probs=output_probs)\n",
    "\n",
    "    def log_marginal(self, observations, function_dist, *args, **kwargs):\n",
    "        marginal = self.marginal(function_dist, *args, **kwargs)\n",
    "        return marginal.log_prob(observations)\n",
    "\n",
    "    def marginal(self, function_dist, **kwargs):\n",
    "        mean = function_dist.mean\n",
    "        var = function_dist.variance\n",
    "        link = mean.div(torch.sqrt(1 + var))\n",
    "        output_probs = base_distributions.Normal(0, 1).cdf(link)\n",
    "        return base_distributions.Binomial(total_count=self.num_data, probs=output_probs)\n",
    "\n",
    "    def expected_log_prob(self, observations, function_dist, *params, **kwargs):\n",
    "        if torch.any(torch.logical_or(observations.le(-1), observations.ge(self.n_trials+1))):\n",
    "            # Remove after 1.0\n",
    "            warnings.warn(\n",
    "                \"BinomialLikelihood.expected_log_prob expects observations with labels in [0, m]. \"\n",
    "                \"Observations <0 or >m are not allowed.\",\n",
    "                DeprecationWarning,\n",
    "            )\n",
    "        else:\n",
    "            for i in range(observations.size(0)):\n",
    "                observations[i] = torch.clamp(observations[i],0,self.n_trials[i])\n",
    "\n",
    "        # Custom function here so we can use log_normal_cdf rather than Normal.cdf\n",
    "        # This is going to be less prone to overflow errors\n",
    "        log_prob_lambda = lambda function_samples: self.n_trials*log_normal_cdf(-function_samples) + \\\n",
    "                observations.mul(log_normal_cdf(function_samples)-log_normal_cdf(-function_samples))\n",
    "        log_prob = self.quadrature(log_prob_lambda, function_dist)\n",
    "        return log_prob\n"
   ]
  },
  {
   "cell_type": "code",
   "execution_count": 3,
   "metadata": {},
   "outputs": [],
   "source": [
    "# implement GP class\n",
    "class BinomialGPModel(gpytorch.models.ApproximateGP):\n",
    "    def __init__(self, train_x):\n",
    "        variational_distribution = CholeskyVariationalDistribution(train_x.size(0))\n",
    "        variational_strategy = VariationalStrategy(\n",
    "            self, train_x, variational_distribution, learn_inducing_locations=False\n",
    "        )\n",
    "        super(BinomialGPModel, self).__init__(variational_strategy)\n",
    "        self.mean_module = gpytorch.means.LinearMean(input_size=train_x.size(1))\n",
    "        # ARD kernel for covariate, geospatial and time confounding\n",
    "        self.covar_module = gpytorch.kernels.ScaleKernel(\n",
    "            gpytorch.kernels.RBFKernel(ard_num_dims=train_x.size(1)))\n",
    "        \n",
    "    def forward(self, x):\n",
    "        mean_x = self.mean_module(x)\n",
    "        covar_x = self.covar_module(x)\n",
    "        return gpytorch.distributions.MultivariateNormal(mean_x, covar_x)\n"
   ]
  },
  {
   "cell_type": "code",
   "execution_count": 4,
   "metadata": {},
   "outputs": [],
   "source": [
    "def transform_data(data):\n",
    "    n = data.shape[0]\n",
    "    x = np.zeros((n,11))\n",
    "    y = np.zeros((n,))\n",
    "    theta = np.zeros((n,))\n",
    "    N = np.zeros((n,))\n",
    "    x[:,0] = data[\"latitude\"].to_numpy()\n",
    "    x[:,1] = data[\"longitude\"].to_numpy()\n",
    "    x[:,2] = (data[\"gender\"].to_numpy()==\"Male\")\n",
    "    x[:,3] = (data[\"gender\"].to_numpy()==\"Female\")\n",
    "    x[:,4] = (data[\"gender\"].to_numpy()==\"Non-binary\")\n",
    "    x[:,5] = (data[\"race\"].to_numpy()==\"White\")\n",
    "    x[:,6] = (data[\"race\"].to_numpy()==\"Black\")\n",
    "    x[:,7] = (data[\"race\"].to_numpy()==\"Hispanic\")\n",
    "    x[:,8] = (data[\"race\"].to_numpy()==\"Asian\")\n",
    "    x[:,9] = (data[\"race\"].to_numpy()==\"Other\")\n",
    "    x[:,10] = data[\"year\"].to_numpy()\n",
    "    theta = data[\"theta\"].to_numpy()\n",
    "    y = data[\"Y\"].to_numpy()\n",
    "    N = data[\"n\"].to_numpy()\n",
    "\n",
    "    return torch.from_numpy(x).double(), torch.from_numpy(y).double(),\\\n",
    "            torch.from_numpy(N).double(), theta"
   ]
  },
  {
   "cell_type": "code",
   "execution_count": 5,
   "metadata": {},
   "outputs": [
    {
     "name": "stderr",
     "output_type": "stream",
     "text": [
      "/Users/yahoo/anaconda3/lib/python3.7/site-packages/gpytorch/lazy/triangular_lazy_tensor.py:136: UserWarning: torch.triangular_solve is deprecated in favor of torch.linalg.solve_triangularand will be removed in a future PyTorch release.\n",
      "torch.linalg.solve_triangular has its arguments reversed and does not return a copy of one of the inputs.\n",
      "X = torch.triangular_solve(B, A).solution\n",
      "should be replaced with\n",
      "X = torch.linalg.solve_triangular(A, B). (Triggered internally at  /Users/runner/work/pytorch/pytorch/pytorch/aten/src/ATen/native/BatchLinearAlgebra.cpp:2189.)\n",
      "  res = torch.triangular_solve(right_tensor, self.evaluate(), upper=self.upper).solution\n"
     ]
    },
    {
     "name": "stdout",
     "output_type": "stream",
     "text": [
      "Iter 1/200 - Loss: 143.948\n",
      "Iter 2/200 - Loss: 132.882\n",
      "Iter 3/200 - Loss: 94.537\n",
      "Iter 4/200 - Loss: 79.379\n",
      "Iter 5/200 - Loss: 68.965\n",
      "Iter 6/200 - Loss: 56.859\n",
      "Iter 7/200 - Loss: 47.904\n",
      "Iter 8/200 - Loss: 43.960\n",
      "Iter 9/200 - Loss: 42.901\n",
      "Iter 10/200 - Loss: 42.698\n",
      "Iter 11/200 - Loss: 42.858\n",
      "Iter 12/200 - Loss: 43.203\n",
      "Iter 13/200 - Loss: 43.347\n",
      "Iter 14/200 - Loss: 43.028\n",
      "Iter 15/200 - Loss: 42.253\n",
      "Iter 16/200 - Loss: 41.157\n",
      "Iter 17/200 - Loss: 39.904\n",
      "Iter 18/200 - Loss: 38.654\n",
      "Iter 19/200 - Loss: 37.544\n",
      "Iter 20/200 - Loss: 36.661\n",
      "Iter 21/200 - Loss: 36.039\n",
      "Iter 22/200 - Loss: 35.665\n",
      "Iter 23/200 - Loss: 35.487\n",
      "Iter 24/200 - Loss: 35.433\n",
      "Iter 25/200 - Loss: 35.433\n",
      "Iter 26/200 - Loss: 35.430\n",
      "Iter 27/200 - Loss: 35.394\n",
      "Iter 28/200 - Loss: 35.310\n",
      "Iter 29/200 - Loss: 35.183\n",
      "Iter 30/200 - Loss: 35.023\n",
      "Iter 31/200 - Loss: 34.847\n",
      "Iter 32/200 - Loss: 34.673\n",
      "Iter 33/200 - Loss: 34.514\n",
      "Iter 34/200 - Loss: 34.380\n",
      "Iter 35/200 - Loss: 34.277\n",
      "Iter 36/200 - Loss: 34.204\n",
      "Iter 37/200 - Loss: 34.157\n",
      "Iter 38/200 - Loss: 34.127\n",
      "Iter 39/200 - Loss: 34.103\n",
      "Iter 40/200 - Loss: 34.077\n",
      "Iter 41/200 - Loss: 34.043\n",
      "Iter 42/200 - Loss: 34.001\n",
      "Iter 43/200 - Loss: 33.954\n",
      "Iter 44/200 - Loss: 33.907\n",
      "Iter 45/200 - Loss: 33.862\n",
      "Iter 46/200 - Loss: 33.821\n",
      "Iter 47/200 - Loss: 33.785\n",
      "Iter 48/200 - Loss: 33.754\n",
      "Iter 49/200 - Loss: 33.727\n",
      "Iter 50/200 - Loss: 33.705\n",
      "Iter 51/200 - Loss: 33.685\n",
      "Iter 52/200 - Loss: 33.665\n",
      "Iter 53/200 - Loss: 33.645\n",
      "Iter 54/200 - Loss: 33.623\n",
      "Iter 55/200 - Loss: 33.598\n",
      "Iter 56/200 - Loss: 33.573\n",
      "Iter 57/200 - Loss: 33.549\n",
      "Iter 58/200 - Loss: 33.528\n",
      "Iter 59/200 - Loss: 33.511\n",
      "Iter 60/200 - Loss: 33.496\n",
      "Iter 61/200 - Loss: 33.483\n",
      "Iter 62/200 - Loss: 33.471\n",
      "Iter 63/200 - Loss: 33.459\n",
      "Iter 64/200 - Loss: 33.446\n",
      "Iter 65/200 - Loss: 33.433\n",
      "Iter 66/200 - Loss: 33.418\n",
      "Iter 67/200 - Loss: 33.402\n",
      "Iter 68/200 - Loss: 33.386\n",
      "Iter 69/200 - Loss: 33.370\n",
      "Iter 70/200 - Loss: 33.355\n",
      "Iter 71/200 - Loss: 33.341\n",
      "Iter 72/200 - Loss: 33.328\n",
      "Iter 73/200 - Loss: 33.316\n",
      "Iter 74/200 - Loss: 33.305\n",
      "Iter 75/200 - Loss: 33.295\n",
      "Iter 76/200 - Loss: 33.285\n",
      "Iter 77/200 - Loss: 33.274\n",
      "Iter 78/200 - Loss: 33.263\n",
      "Iter 79/200 - Loss: 33.252\n",
      "Iter 80/200 - Loss: 33.241\n",
      "Iter 81/200 - Loss: 33.229\n",
      "Iter 82/200 - Loss: 33.218\n",
      "Iter 83/200 - Loss: 33.207\n",
      "Iter 84/200 - Loss: 33.196\n",
      "Iter 85/200 - Loss: 33.186\n",
      "Iter 86/200 - Loss: 33.176\n",
      "Iter 87/200 - Loss: 33.167\n",
      "Iter 88/200 - Loss: 33.157\n",
      "Iter 89/200 - Loss: 33.148\n",
      "Iter 90/200 - Loss: 33.139\n",
      "Iter 91/200 - Loss: 33.129\n",
      "Iter 92/200 - Loss: 33.120\n",
      "Iter 93/200 - Loss: 33.110\n",
      "Iter 94/200 - Loss: 33.101\n",
      "Iter 95/200 - Loss: 33.091\n",
      "Iter 96/200 - Loss: 33.082\n",
      "Iter 97/200 - Loss: 33.073\n",
      "Iter 98/200 - Loss: 33.064\n",
      "Iter 99/200 - Loss: 33.056\n",
      "Iter 100/200 - Loss: 33.047\n",
      "Iter 101/200 - Loss: 33.039\n",
      "Iter 102/200 - Loss: 33.030\n",
      "Iter 103/200 - Loss: 33.022\n",
      "Iter 104/200 - Loss: 33.013\n",
      "Iter 105/200 - Loss: 33.005\n",
      "Iter 106/200 - Loss: 32.996\n",
      "Iter 107/200 - Loss: 32.988\n",
      "Iter 108/200 - Loss: 32.980\n",
      "Iter 109/200 - Loss: 32.972\n",
      "Iter 110/200 - Loss: 32.964\n",
      "Iter 111/200 - Loss: 32.956\n",
      "Iter 112/200 - Loss: 32.948\n",
      "Iter 113/200 - Loss: 32.940\n",
      "Iter 114/200 - Loss: 32.933\n",
      "Iter 115/200 - Loss: 32.925\n",
      "Iter 116/200 - Loss: 32.917\n",
      "Iter 117/200 - Loss: 32.910\n",
      "Iter 118/200 - Loss: 32.902\n",
      "Iter 119/200 - Loss: 32.895\n",
      "Iter 120/200 - Loss: 32.887\n",
      "Iter 121/200 - Loss: 32.880\n",
      "Iter 122/200 - Loss: 32.873\n",
      "Iter 123/200 - Loss: 32.865\n",
      "Iter 124/200 - Loss: 32.858\n",
      "Iter 125/200 - Loss: 32.851\n",
      "Iter 126/200 - Loss: 32.844\n",
      "Iter 127/200 - Loss: 32.837\n",
      "Iter 128/200 - Loss: 32.830\n",
      "Iter 129/200 - Loss: 32.823\n",
      "Iter 130/200 - Loss: 32.816\n",
      "Iter 131/200 - Loss: 32.809\n",
      "Iter 132/200 - Loss: 32.802\n",
      "Iter 133/200 - Loss: 32.795\n",
      "Iter 134/200 - Loss: 32.789\n",
      "Iter 135/200 - Loss: 32.782\n",
      "Iter 136/200 - Loss: 32.775\n",
      "Iter 137/200 - Loss: 32.769\n",
      "Iter 138/200 - Loss: 32.762\n",
      "Iter 139/200 - Loss: 32.756\n",
      "Iter 140/200 - Loss: 32.750\n",
      "Iter 141/200 - Loss: 32.743\n",
      "Iter 142/200 - Loss: 32.737\n",
      "Iter 143/200 - Loss: 32.731\n",
      "Iter 144/200 - Loss: 32.725\n",
      "Iter 145/200 - Loss: 32.719\n",
      "Iter 146/200 - Loss: 32.713\n",
      "Iter 147/200 - Loss: 32.707\n",
      "Iter 148/200 - Loss: 32.701\n",
      "Iter 149/200 - Loss: 32.695\n",
      "Iter 150/200 - Loss: 32.689\n",
      "Iter 151/200 - Loss: 32.684\n",
      "Iter 152/200 - Loss: 32.678\n",
      "Iter 153/200 - Loss: 32.673\n",
      "Iter 154/200 - Loss: 32.667\n",
      "Iter 155/200 - Loss: 32.662\n",
      "Iter 156/200 - Loss: 32.656\n",
      "Iter 157/200 - Loss: 32.651\n",
      "Iter 158/200 - Loss: 32.646\n",
      "Iter 159/200 - Loss: 32.641\n",
      "Iter 160/200 - Loss: 32.636\n",
      "Iter 161/200 - Loss: 32.631\n",
      "Iter 162/200 - Loss: 32.626\n",
      "Iter 163/200 - Loss: 32.621\n",
      "Iter 164/200 - Loss: 32.616\n",
      "Iter 165/200 - Loss: 32.612\n",
      "Iter 166/200 - Loss: 32.607\n",
      "Iter 167/200 - Loss: 32.603\n",
      "Iter 168/200 - Loss: 32.598\n",
      "Iter 169/200 - Loss: 32.594\n",
      "Iter 170/200 - Loss: 32.589\n",
      "Iter 171/200 - Loss: 32.585\n",
      "Iter 172/200 - Loss: 32.581\n",
      "Iter 173/200 - Loss: 32.577\n",
      "Iter 174/200 - Loss: 32.572\n",
      "Iter 175/200 - Loss: 32.568\n",
      "Iter 176/200 - Loss: 32.564\n",
      "Iter 177/200 - Loss: 32.561\n",
      "Iter 178/200 - Loss: 32.557\n",
      "Iter 179/200 - Loss: 32.553\n",
      "Iter 180/200 - Loss: 32.549\n",
      "Iter 181/200 - Loss: 32.546\n",
      "Iter 182/200 - Loss: 32.542\n",
      "Iter 183/200 - Loss: 32.538\n",
      "Iter 184/200 - Loss: 32.535\n",
      "Iter 185/200 - Loss: 32.532\n",
      "Iter 186/200 - Loss: 32.528\n",
      "Iter 187/200 - Loss: 32.525\n",
      "Iter 188/200 - Loss: 32.522\n",
      "Iter 189/200 - Loss: 32.519\n",
      "Iter 190/200 - Loss: 32.515\n",
      "Iter 191/200 - Loss: 32.512\n",
      "Iter 192/200 - Loss: 32.509\n",
      "Iter 193/200 - Loss: 32.506\n",
      "Iter 194/200 - Loss: 32.503\n",
      "Iter 195/200 - Loss: 32.501\n",
      "Iter 196/200 - Loss: 32.498\n",
      "Iter 197/200 - Loss: 32.495\n",
      "Iter 198/200 - Loss: 32.492\n",
      "Iter 199/200 - Loss: 32.490\n",
      "Iter 200/200 - Loss: 32.487\n"
     ]
    }
   ],
   "source": [
    "torch.manual_seed(0)\n",
    "\n",
    "# load data\n",
    "train_data = pd.read_csv(\"train_data.csv\", index_col=0)\n",
    "test_data = pd.read_csv(\"test_data.csv\", index_col=0)\n",
    "\n",
    "# transform data\n",
    "train_x, train_y, train_N, train_theta = transform_data(train_data)\n",
    "test_x, test_y, test_N, test_theta = transform_data(test_data)\n",
    "\n",
    "# initialize likelihood and model\n",
    "likelihood = BinomialLikelihood(n_trials=train_N)\n",
    "model = BinomialGPModel(train_x=train_x).double()\n",
    "\n",
    "training_iterations = 200\n",
    "\n",
    "# Find optimal model hyperparameters\n",
    "model.train()\n",
    "likelihood.train()\n",
    "\n",
    "# Use the adam optimizer\n",
    "optimizer = torch.optim.Adam(model.parameters(), lr=0.1) \n",
    "\n",
    "mll = gpytorch.mlls.VariationalELBO(likelihood, model, train_y.numel())\n",
    "\n",
    "start = time.time()\n",
    "\n",
    "for i in range(training_iterations):\n",
    "    # Zero backpropped gradients from previous iteration\n",
    "    optimizer.zero_grad()\n",
    "    # Get predictive output\n",
    "    output = model(train_x)\n",
    "    # Calc loss and backprop gradients\n",
    "    loss = -mll(output, train_y)\n",
    "    loss.backward()\n",
    "    print('Iter %d/%d - Loss: %.3f' % (i + 1, training_iterations, loss.item()))\n",
    "    optimizer.step()\n",
    "\n",
    "end = time.time()"
   ]
  },
  {
   "cell_type": "code",
   "execution_count": 6,
   "metadata": {},
   "outputs": [
    {
     "name": "stdout",
     "output_type": "stream",
     "text": [
      "tensor([[0.4775, 0.3050, 2.0789, 1.4015, 1.5113, 1.6095, 1.6372, 1.8957, 0.9876,\n",
      "         1.3595, 0.5636]], dtype=torch.float64, grad_fn=<SoftplusBackward0>)\n",
      "tensor(0.2173, dtype=torch.float64, grad_fn=<SoftplusBackward0>)\n"
     ]
    }
   ],
   "source": [
    "print(model.covar_module.base_kernel.lengthscale)\n",
    "print(model.covar_module.outputscale)"
   ]
  },
  {
   "cell_type": "code",
   "execution_count": 7,
   "metadata": {},
   "outputs": [
    {
     "name": "stdout",
     "output_type": "stream",
     "text": [
      "trained for 0 min 10 sec for 200 iterations\n"
     ]
    }
   ],
   "source": [
    "print(\"trained for {:d} min {:d} sec for {:d} iterations\".format(int(end-start)//60,int(end-start)%60,training_iterations))"
   ]
  },
  {
   "cell_type": "code",
   "execution_count": 8,
   "metadata": {},
   "outputs": [
    {
     "data": {
      "text/plain": [
       "Text(0.5, 1.0, 'training data')"
      ]
     },
     "execution_count": 8,
     "metadata": {},
     "output_type": "execute_result"
    },
    {
     "data": {
      "image/png": "[encoded data removed]",
      "text/plain": [
       "<Figure size 432x288 with 1 Axes>"
      ]
     },
     "metadata": {
      "needs_background": "light"
     },
     "output_type": "display_data"
    }
   ],
   "source": [
    "model.eval()\n",
    "likelihood.eval()\n",
    "\n",
    "with torch.no_grad():\n",
    "    f_pred = model(train_x)\n",
    "    mu = f_pred.mean.numpy()\n",
    "\n",
    "plt.scatter(train_theta,mu/np.std(mu))\n",
    "plt.xlabel(\"actual theta\")\n",
    "plt.ylabel(\"est theta\")\n",
    "plt.title(\"training data\")"
   ]
  },
  {
   "cell_type": "code",
   "execution_count": 9,
   "metadata": {},
   "outputs": [
    {
     "data": {
      "text/plain": [
       "Text(0.5, 1.0, 'test data')"
      ]
     },
     "execution_count": 9,
     "metadata": {},
     "output_type": "execute_result"
    },
    {
     "data": {
      "image/png": "[encoded data removed]",
      "text/plain": [
       "<Figure size 432x288 with 1 Axes>"
      ]
     },
     "metadata": {
      "needs_background": "light"
     },
     "output_type": "display_data"
    }
   ],
   "source": [
    "model.eval()\n",
    "likelihood.eval()\n",
    "\n",
    "with torch.no_grad():\n",
    "    f_pred2 = model(test_x)\n",
    "    mu2 = f_pred2.mean.numpy()\n",
    "\n",
    "plt.scatter(test_theta,mu2/np.std(mu2))\n",
    "plt.xlabel(\"actual theta\")\n",
    "plt.ylabel(\"est theta\")\n",
    "plt.title(\"test data\")"
   ]
  },
  {
   "cell_type": "code",
   "execution_count": 10,
   "metadata": {},
   "outputs": [
    {
     "name": "stdout",
     "output_type": "stream",
     "text": [
      "Train avg 95% Coverage: 0.896\n",
      "Train avg RMSE: 0.368\n"
     ]
    }
   ],
   "source": [
    "results = pd.DataFrame({\"true_theta\": train_theta, \"est_mean\": mu/np.std(mu)})\n",
    "results['est_std'] = np.sqrt(f_pred.variance.numpy())/np.std(mu)\n",
    "\n",
    "lower = results['est_mean'] - 2*results['est_std']\n",
    "upper = results['est_mean'] + 2*results['est_std']\n",
    "print(\"Train avg 95% Coverage: {:.3f}\".format(np.mean(np.logical_and(lower<=train_theta, upper>=train_theta))))\n",
    "print(\"Train avg RMSE: {:.3f}\".format(np.sqrt(np.mean((train_theta-results['est_mean'])**2))))\n"
   ]
  },
  {
   "cell_type": "code",
   "execution_count": 11,
   "metadata": {},
   "outputs": [
    {
     "name": "stdout",
     "output_type": "stream",
     "text": [
      "Test avg 95% Coverage: 0.894\n",
      "Test avg RMSE: 0.558\n"
     ]
    },
    {
     "name": "stderr",
     "output_type": "stream",
     "text": [
      "/Users/yahoo/anaconda3/lib/python3.7/site-packages/ipykernel_launcher.py:11: SettingWithCopyWarning: \n",
      "A value is trying to be set on a copy of a slice from a DataFrame\n",
      "\n",
      "See the caveats in the documentation: https://pandas.pydata.org/pandas-docs/stable/user_guide/indexing.html#returning-a-view-versus-a-copy\n",
      "  # This is added back by InteractiveShellApp.init_path()\n"
     ]
    }
   ],
   "source": [
    "results2 = pd.DataFrame({\"true_theta\": test_theta, \"est_mean\": mu2/np.std(mu2)})\n",
    "results2['est_std'] = np.sqrt(f_pred2.variance.numpy())/np.std(mu2)\n",
    "\n",
    "lower = results2['est_mean'] - 2*results2['est_std']\n",
    "upper = results2['est_mean'] + 2*results2['est_std']\n",
    "print(\"Test avg 95% Coverage: {:.3f}\".format(np.mean(np.logical_and(lower<=test_theta, upper>=test_theta))))\n",
    "print(\"Test avg RMSE: {:.3f}\".format(np.sqrt(np.mean((test_theta-results2['est_mean'])**2))))\n",
    "\n",
    "results2 = results.append(results2)\n",
    "results2[\"Type\"] = \"test\"\n",
    "results2.Type[0:results.shape[0]] = \"train\"\n",
    "\n",
    "results2.to_csv(\"GPR_result.csv\")"
   ]
  },
  {
   "cell_type": "code",
   "execution_count": null,
   "metadata": {},
   "outputs": [],
   "source": []
  }
 ],
 "metadata": {
  "kernelspec": {
   "display_name": "base",
   "language": "python",
   "name": "python3"
  },
  "language_info": {
   "codemirror_mode": {
    "name": "ipython",
    "version": 3
   },
   "file_extension": ".py",
   "mimetype": "text/x-python",
   "name": "python",
   "nbconvert_exporter": "python",
   "pygments_lexer": "ipython3",
   "version": "3.7.3"
  },
  "orig_nbformat": 4
 },
 "nbformat": 4,
 "nbformat_minor": 2
}
